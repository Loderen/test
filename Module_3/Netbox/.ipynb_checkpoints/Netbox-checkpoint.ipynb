{
 "cells": [
  {
   "cell_type": "markdown",
   "id": "41f73f01-ccdf-4004-bbc1-24cb936e568f",
   "metadata": {},
   "source": [
    "## **Netbox**"
   ]
  },
  {
   "cell_type": "markdown",
   "id": "33236ce9-fa0d-4b6d-a0d1-28bc0f156e24",
   "metadata": {},
   "source": [
    "В рамках данного курса Netbox устанавливается в виде контейнера"
   ]
  },
  {
   "cell_type": "markdown",
   "id": "86078cec-1b5f-4c5a-baf3-34dcb36db2d1",
   "metadata": {},
   "source": [
    "Необходимо установить Netbox в среде Docker (https://github.com/netbox-community/netbox-docker)"
   ]
  },
  {
   "cell_type": "markdown",
   "id": "458bfc25-6530-4134-9ac5-3ba9c37dfad2",
   "metadata": {},
   "source": [
    "```bash\n",
    "git clone -b release https://github.com/netbox-community/netbox-docker.git\n",
    "cd netbox-docker\n",
    "tee docker-compose.override.yml <<EOF\n",
    "version: '3.4'\n",
    "services:\n",
    "  netbox:\n",
    "    ports:\n",
    "      - 8000:8080\n",
    "EOF\n",
    "sudo docker compose pull\n",
    "sudo docker compose up\n",
    "```"
   ]
  },
  {
   "cell_type": "markdown",
   "id": "c3fc8a19-4b1a-4cbd-887e-bd2e829185f9",
   "metadata": {
    "tags": []
   },
   "source": [
    "Для создания учетной записи необходимо выполнить следующую команду:\n",
    "```bash\n",
    "sudo docker compose exec netbox /opt/netbox/netbox/manage.py createsuperuser\n",
    "```"
   ]
  },
  {
   "cell_type": "markdown",
   "id": "5cffa968-22b5-42d1-b5a6-b9ebf2cf595f",
   "metadata": {},
   "source": [
    "Далее в Netbox необходимо создать API Token - (0123456789abcdef0123456789abcdef01234567)"
   ]
  },
  {
   "cell_type": "markdown",
   "id": "1fbc02dc-c887-4b20-8842-b538c7e6b3a3",
   "metadata": {},
   "source": [
    "---\n",
    "## **Ansible + Netbox**\n",
    "---"
   ]
  },
  {
   "cell_type": "markdown",
   "id": "6bd15202-9c1c-429b-8e0f-b5f02d779f62",
   "metadata": {},
   "source": [
    "ansible-galaxy collection install netbox.netbox\n",
    "\n",
    "pip3 install pynetbox pytz"
   ]
  },
  {
   "cell_type": "code",
   "execution_count": null,
   "id": "65192034-9b94-4208-b7e9-b7cfcf03c8cf",
   "metadata": {
    "tags": []
   },
   "outputs": [],
   "source": [
    "!cat ./pre_net/ansible.cfg"
   ]
  },
  {
   "cell_type": "code",
   "execution_count": null,
   "id": "8134037c-52a0-48e8-b2a7-f07cac1c1781",
   "metadata": {
    "tags": []
   },
   "outputs": [],
   "source": [
    "!cat ./pre_net/inventory/inventory.yml"
   ]
  },
  {
   "cell_type": "markdown",
   "id": "a3884ab7-4798-438d-9c8c-15bcd8193bd5",
   "metadata": {
    "tags": []
   },
   "source": [
    "```bash\n",
    "NETBOX_URL=http://localhost:8000\n",
    "NETBOX_API_KEY=0123456789abcdef0123456789abcdef01234567\n",
    "```"
   ]
  },
  {
   "cell_type": "code",
   "execution_count": null,
   "id": "b66eb5eb-eb28-4cc4-8e98-8aacc5f10b9c",
   "metadata": {
    "tags": []
   },
   "outputs": [],
   "source": [
    "!ansible-inventory -i ./post_net/inventory/inventory.yml --list"
   ]
  },
  {
   "cell_type": "code",
   "execution_count": null,
   "id": "8625de8c-5933-43fe-af0c-c44a94820d65",
   "metadata": {},
   "outputs": [],
   "source": []
  }
 ],
 "metadata": {
  "kernelspec": {
   "display_name": "Python 3 (ipykernel)",
   "language": "python",
   "name": "python3"
  },
  "language_info": {
   "codemirror_mode": {
    "name": "ipython",
    "version": 3
   },
   "file_extension": ".py",
   "mimetype": "text/x-python",
   "name": "python",
   "nbconvert_exporter": "python",
   "pygments_lexer": "ipython3",
   "version": "3.10.12"
  }
 },
 "nbformat": 4,
 "nbformat_minor": 5
}
