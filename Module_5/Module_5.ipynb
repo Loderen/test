{
 "cells": [
  {
   "cell_type": "markdown",
   "id": "c7ecad8c-37e1-4fea-a698-75d5d1467f14",
   "metadata": {},
   "source": [
    "---\n",
    "# **Модуль 5. Batfish**\n",
    "---"
   ]
  },
  {
   "cell_type": "markdown",
   "id": "aaa30737-d34d-475c-94ee-59f84284732f",
   "metadata": {},
   "source": [
    "```bash\n",
    "sudo docker pull batfish/allinone\n",
    "sudo docker run --name batfish -v batfish-data:/data -p 3000:8888 -p 9997:9997 -p 9996:9996 batfish/allinone\n",
    "```"
   ]
  },
  {
   "cell_type": "markdown",
   "id": "ec62e00c-adea-4a14-a339-c6616f66ea31",
   "metadata": {},
   "source": [
    "```bash\n",
    "pip install --upgrade pybatfish\n",
    "```"
   ]
  },
  {
   "cell_type": "markdown",
   "id": "45884a6d-c0b3-4030-a143-0a7a0127a3d0",
   "metadata": {},
   "source": [
    "> **_Note:_** ~20 min"
   ]
  },
  {
   "cell_type": "code",
   "execution_count": 2,
   "id": "eb7e37c5-5f1a-456a-b9f2-04a09e78b52a",
   "metadata": {
    "tags": []
   },
   "outputs": [],
   "source": [
    "%run startup.py"
   ]
  },
  {
   "cell_type": "code",
   "execution_count": 3,
   "id": "6d1fbc96-c1e9-4a4c-bf2b-53e69f2157c2",
   "metadata": {
    "tags": []
   },
   "outputs": [],
   "source": [
    "from pybatfish.client.commands import bf_init_snapshot, bf_session\n",
    "from pybatfish.question.question import load_questions\n",
    "from pybatfish.question import bfq\n",
    "import pybatfish.client.asserts as bfas"
   ]
  },
  {
   "cell_type": "code",
   "execution_count": 4,
   "id": "de71bf78-f527-4fa5-958f-4524896a31f9",
   "metadata": {
    "tags": []
   },
   "outputs": [],
   "source": [
    "bf_address = \"127.0.0.1\"\n",
    "snapshot_path = \"./bfsample/\"\n",
    "output_dir = \"./output\""
   ]
  },
  {
   "cell_type": "code",
   "execution_count": 5,
   "id": "49b3c926-2287-42ad-b1a0-d7c2720aeadf",
   "metadata": {
    "tags": []
   },
   "outputs": [
    {
     "name": "stderr",
     "output_type": "stream",
     "text": [
      "status: TRYINGTOASSIGN\n",
      ".... no task information\n",
      "status: ASSIGNED\n",
      ".... 2023-08-18 10:49:10.519000+03:00 Begin job.\n",
      "status: ASSIGNED\n",
      ".... 2023-08-18 10:49:10.519000+03:00 Parse network configs 0 / 4.\n",
      "status: ASSIGNED\n",
      ".... 2023-08-18 10:49:10.519000+03:00 Parse network configs 0 / 4.\n",
      "status: ASSIGNED\n",
      ".... 2023-08-18 10:49:10.519000+03:00 Parse network configs 0 / 4.\n",
      "status: ASSIGNED\n",
      ".... 2023-08-18 10:49:10.519000+03:00 Parse network configs 0 / 4.\n",
      "status: ASSIGNED\n",
      ".... 2023-08-18 10:49:10.519000+03:00 Parse network configs 0 / 4.\n",
      "status: ASSIGNED\n",
      ".... 2023-08-18 10:49:10.519000+03:00 Convert configurations to vendor-independent format 1 / 5.\n",
      "status: ASSIGNED\n",
      ".... 2023-08-18 10:49:10.519000+03:00 Serializing 4 vendor-independent configuration structures for snapshot d1f3f804-b6a7-4f09-89db-26425aef5c6e 0 / 4.\n",
      "status: TERMINATEDNORMALLY\n",
      ".... 2023-08-18 10:49:10.519000+03:00 Deserializing objects of type 'org.batfish.datamodel.Configuration' from files 4 / 4. (00:00:05 elapsed)\n",
      "Default snapshot is now set to ss_90ce111f-22eb-43d1-a67d-38e689d43ad7\n",
      "Successfully loaded 71 questions from remote\n",
      "Successfully loaded 71 questions from remote\n",
      "status: ASSIGNED\n",
      ".... no task information\n",
      "status: ASSIGNED\n",
      ".... 2023-08-18 10:49:16.467000+03:00 Parse environment BGP tables.\n",
      "status: ASSIGNED\n",
      ".... 2023-08-18 10:49:16.467000+03:00 Parse environment BGP tables.\n",
      "status: ASSIGNED\n",
      ".... 2023-08-18 10:49:16.467000+03:00 Parse environment BGP tables.\n",
      "status: TERMINATEDNORMALLY\n",
      ".... 2023-08-18 10:49:16.467000+03:00 Parse environment BGP tables.\n"
     ]
    },
    {
     "name": "stdout",
     "output_type": "stream",
     "text": [
      "              Structure_Type  Structure_Name                    Source_Lines\n",
      "0  extended ipv4 access-list  DENY_ICMP_HTTP      configs/edge1:[48, 49, 50]\n",
      "1           ipv4 prefix-list     PREF_LIST_1  configs/edge2:[50, 51, 52, 53]\n"
     ]
    }
   ],
   "source": [
    "bf_session.host = bf_address\n",
    "\n",
    "bf_init_snapshot(snapshot_path, overwrite=True)\n",
    "load_questions()\n",
    "\n",
    "r1 = bfq.unusedStructures().answer().frame()\n",
    "print(r1)\n",
    "\n",
    "r1.to_csv(f\"{output_dir}/result_1.csv\")"
   ]
  },
  {
   "cell_type": "code",
   "execution_count": 6,
   "id": "6173506b-d0d1-41f4-ac95-4cf749a0fee7",
   "metadata": {
    "tags": []
   },
   "outputs": [
    {
     "name": "stderr",
     "output_type": "stream",
     "text": [
      "status: TRYINGTOASSIGN\n",
      ".... no task information\n",
      "status: ASSIGNED\n",
      ".... 2023-08-18 10:53:19.994000+03:00 Begin job.\n",
      "status: TERMINATEDNORMALLY\n",
      ".... 2023-08-18 10:53:19.994000+03:00 Begin job.\n"
     ]
    },
    {
     "name": "stdout",
     "output_type": "stream",
     "text": [
      "    Node AS_Path_Access_Lists Authentication_Key_Chains Community_Match_Exprs  \\\n",
      "0  core1                   []                        []                    []   \n",
      "1  edge1                   []                        []                    []   \n",
      "2  edge2                   []                        []                    []   \n",
      "3  core2                   []                        []                    []   \n",
      "\n",
      "  Community_Set_Exprs Community_Set_Match_Exprs Community_Sets  \\\n",
      "0                  []                        []             []   \n",
      "1                  []                        []             []   \n",
      "2                  []                        []             []   \n",
      "3                  []                        []             []   \n",
      "\n",
      "  Configuration_Format DNS_Servers DNS_Source_Interface  \\\n",
      "0               ARISTA          []                 None   \n",
      "1               ARISTA          []                 None   \n",
      "2               ARISTA          []                 None   \n",
      "3               ARISTA          []                 None   \n",
      "\n",
      "  Default_Cross_Zone_Action Default_Inbound_Action Domain_Name Hostname  \\\n",
      "0                    PERMIT                 PERMIT        None    core1   \n",
      "1                    PERMIT                 PERMIT        None    edge1   \n",
      "2                    PERMIT                 PERMIT        None    edge2   \n",
      "3                    PERMIT                 PERMIT        None    core2   \n",
      "\n",
      "  IKE_Phase1_Keys IKE_Phase1_Policies IKE_Phase1_Proposals IP6_Access_Lists  \\\n",
      "0              []                  []                   []               []   \n",
      "1              []                  []                   []               []   \n",
      "2              []                  []                   []               []   \n",
      "3              []                  []                   []               []   \n",
      "\n",
      "      IP_Access_Lists IPsec_Peer_Configs IPsec_Phase2_Policies  \\\n",
      "0                  []                 []                    []   \n",
      "1  ['DENY_ICMP_HTTP']                 []                    []   \n",
      "2                  []                 []                    []   \n",
      "3                  []                 []                    []   \n",
      "\n",
      "  IPsec_Phase2_Proposals  \\\n",
      "0                     []   \n",
      "1                     []   \n",
      "2                     []   \n",
      "3                     []   \n",
      "\n",
      "                                                                                        Interfaces  \\\n",
      "0                              ['Ethernet1', 'Ethernet2', 'Ethernet3', 'Ethernet4', 'Management0']   \n",
      "1  ['Ethernet1', 'Ethernet2', 'Ethernet3', 'Ethernet4', 'Loopback0', 'Loopback100', 'Management0']   \n",
      "2  ['Ethernet1', 'Ethernet2', 'Ethernet3', 'Ethernet4', 'Loopback0', 'Loopback100', 'Management0']   \n",
      "3                              ['Ethernet1', 'Ethernet2', 'Ethernet3', 'Ethernet4', 'Management0']   \n",
      "\n",
      "  Logging_Servers Logging_Source_Interface NTP_Servers NTP_Source_Interface  \\\n",
      "0              []                     None          []                 None   \n",
      "1              []                     None          []                 None   \n",
      "2              []                     None          []                 None   \n",
      "3              []                     None          []                 None   \n",
      "\n",
      "  PBR_Policies Route6_Filter_Lists Route_Filter_Lists  \\\n",
      "0           []                  []                 []   \n",
      "1           []                  []                 []   \n",
      "2           []                  []    ['PREF_LIST_1']   \n",
      "3           []                  []                 []   \n",
      "\n",
      "                                                                                                                                                 Routing_Policies  \\\n",
      "0                                                                                                                              ['~OSPF_EXPORT_POLICY:default:1~']   \n",
      "1  ['~BGP_COMMON_EXPORT_POLICY:default~', '~BGP_PEER_EXPORT_POLICY:default:10.0.200.1~', '~BGP_REDISTRIBUTION_POLICY:default~', '~OSPF_EXPORT_POLICY:default:1~']   \n",
      "2  ['~BGP_COMMON_EXPORT_POLICY:default~', '~BGP_PEER_EXPORT_POLICY:default:10.0.100.1~', '~BGP_REDISTRIBUTION_POLICY:default~', '~OSPF_EXPORT_POLICY:default:1~']   \n",
      "3                                                                                                                              ['~OSPF_EXPORT_POLICY:default:1~']   \n",
      "\n",
      "  SNMP_Source_Interface SNMP_Trap_Servers TACACS_Servers  \\\n",
      "0                  None                []             []   \n",
      "1                  None                []             []   \n",
      "2                  None                []             []   \n",
      "3                  None                []             []   \n",
      "\n",
      "  TACACS_Source_Interface         VRFs Zones  \n",
      "0                    None  ['default']    []  \n",
      "1                    None  ['default']    []  \n",
      "2                    None  ['default']    []  \n",
      "3                    None  ['default']    []  \n"
     ]
    }
   ],
   "source": [
    "result2 = bfq.nodeProperties().answer().frame()\n",
    "print(result2)\n",
    "\n",
    "result2.to_csv(f\"{output_dir}/result_2.csv\")"
   ]
  },
  {
   "cell_type": "code",
   "execution_count": null,
   "id": "d0371e8c-b053-453c-adb6-c3cbaa718b89",
   "metadata": {},
   "outputs": [],
   "source": [
    "#show(result2)"
   ]
  },
  {
   "cell_type": "code",
   "execution_count": null,
   "id": "af96f395-46a4-41bc-9ada-3809eb89f27e",
   "metadata": {},
   "outputs": [],
   "source": [
    "#bfq.    #https://www.batfish.org/assets/cheat-sheet.pdf"
   ]
  },
  {
   "cell_type": "code",
   "execution_count": null,
   "id": "c016d2cb-fb07-4d6e-9f58-26fb44210d53",
   "metadata": {
    "tags": []
   },
   "outputs": [],
   "source": [
    "bfq.nodeProperties().description"
   ]
  },
  {
   "cell_type": "code",
   "execution_count": null,
   "id": "2174d287-ce15-443f-9631-bdf5a3d1f910",
   "metadata": {},
   "outputs": [],
   "source": [
    "#help(bfq.nodeProperties())"
   ]
  },
  {
   "cell_type": "code",
   "execution_count": 8,
   "id": "1f5bfb90-f331-4d4d-ad2f-280919ff28d8",
   "metadata": {
    "tags": []
   },
   "outputs": [
    {
     "name": "stderr",
     "output_type": "stream",
     "text": [
      "status: TRYINGTOASSIGN\n",
      ".... no task information\n",
      "status: ASSIGNED\n",
      ".... 2023-08-18 10:56:17.331000+03:00 Begin job.\n",
      "status: TERMINATEDNORMALLY\n",
      ".... 2023-08-18 10:56:17.331000+03:00 Begin job.\n"
     ]
    },
    {
     "name": "stdout",
     "output_type": "stream",
     "text": [
      "          Interface      VRF Process_ID OSPF_Area_Name OSPF_Enabled  \\\n",
      "0  core1[Ethernet2]  default          1              0         True   \n",
      "1  core1[Ethernet1]  default          1              0         True   \n",
      "\n",
      "  OSPF_Passive OSPF_Cost OSPF_Network_Type OSPF_Hello_Interval  \\\n",
      "0        False         1         BROADCAST                  10   \n",
      "1        False         1         BROADCAST                  10   \n",
      "\n",
      "  OSPF_Dead_Interval  \n",
      "0                 40  \n",
      "1                 40  \n"
     ]
    }
   ],
   "source": [
    "result3 = bfq.ospfInterfaceConfiguration(nodes=\"core1\").answer().frame()\n",
    "print(result3)\n",
    "\n",
    "result3.to_csv(f\"{output_dir}/result_3.csv\")"
   ]
  },
  {
   "cell_type": "code",
   "execution_count": 9,
   "id": "1ecca820-172f-4455-8b02-80957b16e7c4",
   "metadata": {
    "tags": []
   },
   "outputs": [
    {
     "name": "stderr",
     "output_type": "stream",
     "text": [
      "status: ASSIGNED\n",
      ".... no task information\n",
      "status: TERMINATEDNORMALLY\n",
      ".... 2023-08-18 10:57:21.332000+03:00 Begin job.\n"
     ]
    },
    {
     "name": "stdout",
     "output_type": "stream",
     "text": [
      "    Node      VRF Local_AS    Local_IP Local_Interface Confederation  \\\n",
      "0  edge2  default    65000  10.0.200.1            None          None   \n",
      "1  edge1  default    65000  10.0.100.1            None          None   \n",
      "\n",
      "  Remote_AS   Remote_IP Description Route_Reflector_Client Cluster_ID  \\\n",
      "0     65000  10.0.100.1        None                  False       None   \n",
      "1     65000  10.0.200.1        None                  False       None   \n",
      "\n",
      "  Peer_Group Import_Policy Export_Policy Send_Community Is_Passive  \n",
      "0       None            []            []          False      False  \n",
      "1       None            []            []          False      False  \n"
     ]
    }
   ],
   "source": [
    "result4 = bfq.bgpPeerConfiguration().answer().frame()\n",
    "print(result4)\n",
    "\n",
    "result4.to_csv(f\"{output_dir}/result_4.csv\")"
   ]
  },
  {
   "cell_type": "code",
   "execution_count": 10,
   "id": "32e904ce-cff7-4382-a214-ec6fc91aa7b9",
   "metadata": {
    "tags": []
   },
   "outputs": [
    {
     "name": "stderr",
     "output_type": "stream",
     "text": [
      "status: BLOCKED\n",
      ".... no task information\n",
      "status: BLOCKED\n",
      ".... no task information\n",
      "status: BLOCKED\n",
      ".... no task information\n",
      "status: BLOCKED\n",
      ".... no task information\n",
      "status: BLOCKED\n",
      ".... no task information\n",
      "status: TERMINATEDNORMALLY\n",
      ".... 2023-08-18 10:58:30.619000+03:00 Begin job.\n"
     ]
    },
    {
     "name": "stdout",
     "output_type": "stream",
     "text": [
      "    Node      VRF Local_AS Local_Interface    Local_IP Remote_AS Remote_Node  \\\n",
      "0  edge1  default    65000            None  10.0.100.1     65000       edge2   \n",
      "1  edge2  default    65000            None  10.0.200.1     65000       edge1   \n",
      "\n",
      "  Remote_Interface   Remote_IP  Address_Families Session_Type  \\\n",
      "0             None  10.0.200.1  ['IPV4_UNICAST']         IBGP   \n",
      "1             None  10.0.100.1  ['IPV4_UNICAST']         IBGP   \n",
      "\n",
      "  Established_Status  \n",
      "0        ESTABLISHED  \n",
      "1        ESTABLISHED  \n"
     ]
    }
   ],
   "source": [
    "result5 = bfq.bgpSessionStatus().answer().frame()\n",
    "print(result5)\n",
    "\n",
    "result5.to_csv(f\"{output_dir}/result_5.csv\")"
   ]
  },
  {
   "cell_type": "code",
   "execution_count": 20,
   "id": "5125d27d-92cb-4e2f-ab34-186bad660bd6",
   "metadata": {},
   "outputs": [
    {
     "data": {
      "text/plain": [
       "'ESTABLISHED'"
      ]
     },
     "execution_count": 20,
     "metadata": {},
     "output_type": "execute_result"
    }
   ],
   "source": [
    "result5['Established_Status'][1]"
   ]
  },
  {
   "cell_type": "code",
   "execution_count": 21,
   "id": "5c62a2ac-1b29-44d8-828e-6bfbc083277f",
   "metadata": {
    "tags": []
   },
   "outputs": [
    {
     "name": "stderr",
     "output_type": "stream",
     "text": [
      "status: ASSIGNED\n",
      ".... no task information\n",
      "status: ASSIGNED\n",
      ".... 2023-08-18 11:01:36.930000+03:00 Begin job.\n",
      "status: TERMINATEDNORMALLY\n",
      ".... 2023-08-18 11:01:36.930000+03:00 Begin job.\n"
     ]
    }
   ],
   "source": [
    "result6 = bfq.interfaceProperties().answer().frame()\n",
    "#print(result6)\n",
    "\n",
    "result6.to_csv(f\"{output_dir}/result_6.csv\")"
   ]
  },
  {
   "cell_type": "code",
   "execution_count": 22,
   "id": "2be19c43-c231-446c-a3f8-7e69ae3b9cb0",
   "metadata": {
    "tags": []
   },
   "outputs": [
    {
     "name": "stderr",
     "output_type": "stream",
     "text": [
      "status: ASSIGNED\n",
      ".... no task information\n",
      "status: ASSIGNED\n",
      ".... 2023-08-18 11:02:02.656000+03:00 Begin job.\n",
      "status: ASSIGNED\n",
      ".... 2023-08-18 11:02:02.656000+03:00 Begin job.\n",
      "status: TERMINATEDNORMALLY\n",
      ".... 2023-08-18 11:02:02.656000+03:00 Begin job.\n"
     ]
    },
    {
     "name": "stdout",
     "output_type": "stream",
     "text": [
      "     Node      VRF        Network                         Next_Hop  \\\n",
      "0   core1  default    10.0.0.0/30              interface Ethernet1   \n",
      "1   core1  default    10.0.1.0/30              interface Ethernet2   \n",
      "2   core1  default  10.0.100.1/32  interface Ethernet1 ip 10.0.0.2   \n",
      "3   core1  default  10.0.200.1/32  interface Ethernet2 ip 10.0.1.2   \n",
      "4   core1  default    10.1.0.0/30  interface Ethernet1 ip 10.0.0.2   \n",
      "5   core1  default    10.1.1.0/30  interface Ethernet2 ip 10.0.1.2   \n",
      "6   core2  default    10.0.0.0/30  interface Ethernet1 ip 10.1.0.2   \n",
      "7   core2  default    10.0.1.0/30  interface Ethernet2 ip 10.1.1.2   \n",
      "8   core2  default  10.0.100.1/32  interface Ethernet1 ip 10.1.0.2   \n",
      "9   core2  default  10.0.200.1/32  interface Ethernet2 ip 10.1.1.2   \n",
      "10  core2  default    10.1.0.0/30              interface Ethernet1   \n",
      "11  core2  default    10.1.1.0/30              interface Ethernet2   \n",
      "12  edge1  default    10.0.0.0/30              interface Ethernet1   \n",
      "13  edge1  default    10.0.1.0/30  interface Ethernet1 ip 10.0.0.1   \n",
      "14  edge1  default  10.0.100.1/32              interface Loopback0   \n",
      "15  edge1  default  10.0.200.1/32  interface Ethernet1 ip 10.0.0.1   \n",
      "16  edge1  default  10.0.200.1/32  interface Ethernet2 ip 10.1.0.1   \n",
      "17  edge1  default    10.1.0.0/30              interface Ethernet2   \n",
      "18  edge1  default    10.1.1.0/30  interface Ethernet2 ip 10.1.0.1   \n",
      "19  edge1  default    11.0.0.1/32            interface Loopback100   \n",
      "20  edge1  default    11.0.0.2/32                    ip 10.0.200.1   \n",
      "21  edge2  default    10.0.0.0/30  interface Ethernet1 ip 10.0.1.1   \n",
      "22  edge2  default    10.0.1.0/30              interface Ethernet1   \n",
      "23  edge2  default  10.0.100.1/32  interface Ethernet1 ip 10.0.1.1   \n",
      "24  edge2  default  10.0.100.1/32  interface Ethernet2 ip 10.1.1.1   \n",
      "25  edge2  default  10.0.200.1/32              interface Loopback0   \n",
      "26  edge2  default    10.1.0.0/30  interface Ethernet2 ip 10.1.1.1   \n",
      "27  edge2  default    10.1.1.0/30              interface Ethernet2   \n",
      "28  edge2  default    11.0.0.1/32                    ip 10.0.100.1   \n",
      "29  edge2  default    11.0.0.2/32            interface Loopback100   \n",
      "\n",
      "       Next_Hop_IP Next_Hop_Interface   Protocol Metric Admin_Distance   Tag  \n",
      "0   AUTO/NONE(-1l)          Ethernet1  connected      0              0  None  \n",
      "1   AUTO/NONE(-1l)          Ethernet2  connected      0              0  None  \n",
      "2         10.0.0.2          Ethernet1       ospf      2            110  None  \n",
      "3         10.0.1.2          Ethernet2       ospf      2            110  None  \n",
      "4         10.0.0.2          Ethernet1       ospf      2            110  None  \n",
      "5         10.0.1.2          Ethernet2       ospf      2            110  None  \n",
      "6         10.1.0.2          Ethernet1       ospf      2            110  None  \n",
      "7         10.1.1.2          Ethernet2       ospf      2            110  None  \n",
      "8         10.1.0.2          Ethernet1       ospf      2            110  None  \n",
      "9         10.1.1.2          Ethernet2       ospf      2            110  None  \n",
      "10  AUTO/NONE(-1l)          Ethernet1  connected      0              0  None  \n",
      "11  AUTO/NONE(-1l)          Ethernet2  connected      0              0  None  \n",
      "12  AUTO/NONE(-1l)          Ethernet1  connected      0              0  None  \n",
      "13        10.0.0.1          Ethernet1       ospf      2            110  None  \n",
      "14  AUTO/NONE(-1l)          Loopback0  connected      0              0  None  \n",
      "15        10.0.0.1          Ethernet1       ospf      3            110  None  \n",
      "16        10.1.0.1          Ethernet2       ospf      3            110  None  \n",
      "17  AUTO/NONE(-1l)          Ethernet2  connected      0              0  None  \n",
      "18        10.1.0.1          Ethernet2       ospf      2            110  None  \n",
      "19  AUTO/NONE(-1l)        Loopback100  connected      0              0  None  \n",
      "20      10.0.200.1            dynamic       ibgp      0            200  None  \n",
      "21        10.0.1.1          Ethernet1       ospf      2            110  None  \n",
      "22  AUTO/NONE(-1l)          Ethernet1  connected      0              0  None  \n",
      "23        10.0.1.1          Ethernet1       ospf      3            110  None  \n",
      "24        10.1.1.1          Ethernet2       ospf      3            110  None  \n",
      "25  AUTO/NONE(-1l)          Loopback0  connected      0              0  None  \n",
      "26        10.1.1.1          Ethernet2       ospf      2            110  None  \n",
      "27  AUTO/NONE(-1l)          Ethernet2  connected      0              0  None  \n",
      "28      10.0.100.1            dynamic       ibgp      0            200  None  \n",
      "29  AUTO/NONE(-1l)        Loopback100  connected      0              0  None  \n"
     ]
    }
   ],
   "source": [
    "result7 = bfq.routes().answer().frame()\n",
    "print(result7)\n",
    "\n",
    "result7.to_csv(f\"{output_dir}/result_7.csv\")"
   ]
  },
  {
   "cell_type": "code",
   "execution_count": 23,
   "id": "74f3f101-2b16-44fc-bc86-d39de72ee636",
   "metadata": {
    "tags": []
   },
   "outputs": [
    {
     "name": "stderr",
     "output_type": "stream",
     "text": [
      "status: ASSIGNED\n",
      ".... no task information\n",
      "status: TERMINATEDNORMALLY\n",
      ".... 2023-08-18 11:02:25.111000+03:00 Begin job.\n"
     ]
    },
    {
     "data": {
      "text/html": [
       "<div>\n",
       "<style scoped>\n",
       "    .dataframe tbody tr th:only-of-type {\n",
       "        vertical-align: middle;\n",
       "    }\n",
       "\n",
       "    .dataframe tbody tr th {\n",
       "        vertical-align: top;\n",
       "    }\n",
       "\n",
       "    .dataframe thead th {\n",
       "        text-align: right;\n",
       "    }\n",
       "</style>\n",
       "<table border=\"1\" class=\"dataframe tex2jax_ignore\">\n",
       "  <thead>\n",
       "    <tr style=\"text-align: right;\">\n",
       "      <th></th>\n",
       "      <th>Node</th>\n",
       "      <th>VRF</th>\n",
       "      <th>Network</th>\n",
       "      <th>Next_Hop</th>\n",
       "      <th>Next_Hop_IP</th>\n",
       "      <th>Next_Hop_Interface</th>\n",
       "      <th>Protocol</th>\n",
       "      <th>Metric</th>\n",
       "      <th>Admin_Distance</th>\n",
       "      <th>Tag</th>\n",
       "    </tr>\n",
       "  </thead>\n",
       "  <tbody>\n",
       "    <tr>\n",
       "      <th>0</th>\n",
       "      <td>edge1</td>\n",
       "      <td>default</td>\n",
       "      <td>10.0.0.0/30</td>\n",
       "      <td>interface Ethernet1</td>\n",
       "      <td>AUTO/NONE(-1l)</td>\n",
       "      <td>Ethernet1</td>\n",
       "      <td>connected</td>\n",
       "      <td>0</td>\n",
       "      <td>0</td>\n",
       "      <td>None</td>\n",
       "    </tr>\n",
       "    <tr>\n",
       "      <th>1</th>\n",
       "      <td>edge1</td>\n",
       "      <td>default</td>\n",
       "      <td>10.0.1.0/30</td>\n",
       "      <td>interface Ethernet1 ip 10.0.0.1</td>\n",
       "      <td>10.0.0.1</td>\n",
       "      <td>Ethernet1</td>\n",
       "      <td>ospf</td>\n",
       "      <td>2</td>\n",
       "      <td>110</td>\n",
       "      <td>None</td>\n",
       "    </tr>\n",
       "    <tr>\n",
       "      <th>2</th>\n",
       "      <td>edge1</td>\n",
       "      <td>default</td>\n",
       "      <td>10.0.100.1/32</td>\n",
       "      <td>interface Loopback0</td>\n",
       "      <td>AUTO/NONE(-1l)</td>\n",
       "      <td>Loopback0</td>\n",
       "      <td>connected</td>\n",
       "      <td>0</td>\n",
       "      <td>0</td>\n",
       "      <td>None</td>\n",
       "    </tr>\n",
       "    <tr>\n",
       "      <th>3</th>\n",
       "      <td>edge1</td>\n",
       "      <td>default</td>\n",
       "      <td>10.0.200.1/32</td>\n",
       "      <td>interface Ethernet1 ip 10.0.0.1</td>\n",
       "      <td>10.0.0.1</td>\n",
       "      <td>Ethernet1</td>\n",
       "      <td>ospf</td>\n",
       "      <td>3</td>\n",
       "      <td>110</td>\n",
       "      <td>None</td>\n",
       "    </tr>\n",
       "    <tr>\n",
       "      <th>4</th>\n",
       "      <td>edge1</td>\n",
       "      <td>default</td>\n",
       "      <td>10.0.200.1/32</td>\n",
       "      <td>interface Ethernet2 ip 10.1.0.1</td>\n",
       "      <td>10.1.0.1</td>\n",
       "      <td>Ethernet2</td>\n",
       "      <td>ospf</td>\n",
       "      <td>3</td>\n",
       "      <td>110</td>\n",
       "      <td>None</td>\n",
       "    </tr>\n",
       "    <tr>\n",
       "      <th>5</th>\n",
       "      <td>edge1</td>\n",
       "      <td>default</td>\n",
       "      <td>10.1.0.0/30</td>\n",
       "      <td>interface Ethernet2</td>\n",
       "      <td>AUTO/NONE(-1l)</td>\n",
       "      <td>Ethernet2</td>\n",
       "      <td>connected</td>\n",
       "      <td>0</td>\n",
       "      <td>0</td>\n",
       "      <td>None</td>\n",
       "    </tr>\n",
       "    <tr>\n",
       "      <th>6</th>\n",
       "      <td>edge1</td>\n",
       "      <td>default</td>\n",
       "      <td>10.1.1.0/30</td>\n",
       "      <td>interface Ethernet2 ip 10.1.0.1</td>\n",
       "      <td>10.1.0.1</td>\n",
       "      <td>Ethernet2</td>\n",
       "      <td>ospf</td>\n",
       "      <td>2</td>\n",
       "      <td>110</td>\n",
       "      <td>None</td>\n",
       "    </tr>\n",
       "    <tr>\n",
       "      <th>7</th>\n",
       "      <td>edge1</td>\n",
       "      <td>default</td>\n",
       "      <td>11.0.0.1/32</td>\n",
       "      <td>interface Loopback100</td>\n",
       "      <td>AUTO/NONE(-1l)</td>\n",
       "      <td>Loopback100</td>\n",
       "      <td>connected</td>\n",
       "      <td>0</td>\n",
       "      <td>0</td>\n",
       "      <td>None</td>\n",
       "    </tr>\n",
       "    <tr>\n",
       "      <th>8</th>\n",
       "      <td>edge1</td>\n",
       "      <td>default</td>\n",
       "      <td>11.0.0.2/32</td>\n",
       "      <td>ip 10.0.200.1</td>\n",
       "      <td>10.0.200.1</td>\n",
       "      <td>dynamic</td>\n",
       "      <td>ibgp</td>\n",
       "      <td>0</td>\n",
       "      <td>200</td>\n",
       "      <td>None</td>\n",
       "    </tr>\n",
       "  </tbody>\n",
       "</table>\n",
       "</div>"
      ],
      "text/plain": [
       "    Node      VRF        Network                         Next_Hop  \\\n",
       "0  edge1  default    10.0.0.0/30              interface Ethernet1   \n",
       "1  edge1  default    10.0.1.0/30  interface Ethernet1 ip 10.0.0.1   \n",
       "2  edge1  default  10.0.100.1/32              interface Loopback0   \n",
       "3  edge1  default  10.0.200.1/32  interface Ethernet1 ip 10.0.0.1   \n",
       "4  edge1  default  10.0.200.1/32  interface Ethernet2 ip 10.1.0.1   \n",
       "5  edge1  default    10.1.0.0/30              interface Ethernet2   \n",
       "6  edge1  default    10.1.1.0/30  interface Ethernet2 ip 10.1.0.1   \n",
       "7  edge1  default    11.0.0.1/32            interface Loopback100   \n",
       "8  edge1  default    11.0.0.2/32                    ip 10.0.200.1   \n",
       "\n",
       "      Next_Hop_IP Next_Hop_Interface   Protocol Metric Admin_Distance   Tag  \n",
       "0  AUTO/NONE(-1l)          Ethernet1  connected      0              0  None  \n",
       "1        10.0.0.1          Ethernet1       ospf      2            110  None  \n",
       "2  AUTO/NONE(-1l)          Loopback0  connected      0              0  None  \n",
       "3        10.0.0.1          Ethernet1       ospf      3            110  None  \n",
       "4        10.1.0.1          Ethernet2       ospf      3            110  None  \n",
       "5  AUTO/NONE(-1l)          Ethernet2  connected      0              0  None  \n",
       "6        10.1.0.1          Ethernet2       ospf      2            110  None  \n",
       "7  AUTO/NONE(-1l)        Loopback100  connected      0              0  None  \n",
       "8      10.0.200.1            dynamic       ibgp      0            200  None  "
      ]
     },
     "execution_count": 23,
     "metadata": {},
     "output_type": "execute_result"
    }
   ],
   "source": [
    "bfq.routes(nodes='Edge1').answer().frame()"
   ]
  },
  {
   "cell_type": "code",
   "execution_count": null,
   "id": "c309f8d0-bd72-4b47-be5a-de0af413268d",
   "metadata": {
    "tags": []
   },
   "outputs": [],
   "source": [
    "result8 = bfq.bgpSessionCompatibility().answer().frame()\n",
    "print(result8)\n",
    "\n",
    "result8.to_csv(f\"{output_dir}/result_8.csv\")"
   ]
  },
  {
   "cell_type": "code",
   "execution_count": 24,
   "id": "27dfdead-8ea5-4023-bcc0-cfbc2a1930b6",
   "metadata": {
    "tags": []
   },
   "outputs": [
    {
     "name": "stderr",
     "output_type": "stream",
     "text": [
      "status: ASSIGNED\n",
      ".... no task information\n",
      "status: TERMINATEDNORMALLY\n",
      ".... 2023-08-18 11:03:45.324000+03:00 Begin job.\n"
     ]
    },
    {
     "name": "stdout",
     "output_type": "stream",
     "text": [
      "    Node      VRF          Ip        Network Num_Routes\n",
      "0  edge1  default  10.0.200.1  10.0.200.1/32          2\n"
     ]
    }
   ],
   "source": [
    "result9 = bfq.lpmRoutes(nodes='Edge1', ip='10.0.200.1').answer().frame()\n",
    "print(result9)\n",
    "\n",
    "result9.to_csv(f\"{output_dir}/result_9.csv\")"
   ]
  },
  {
   "cell_type": "markdown",
   "id": "73fb360f-3e95-444c-a01a-0b87d8d5b649",
   "metadata": {},
   "source": [
    "---"
   ]
  },
  {
   "cell_type": "code",
   "execution_count": null,
   "id": "06cfd78e-c264-44af-89ff-310eb0dc421d",
   "metadata": {},
   "outputs": [],
   "source": [
    "import startup"
   ]
  },
  {
   "cell_type": "code",
   "execution_count": null,
   "id": "25ad6c16-ec25-4a25-8bc8-7c4834bb3bb7",
   "metadata": {
    "tags": []
   },
   "outputs": [],
   "source": [
    "from pybatfish.datamodel.flow import HeaderConstraints"
   ]
  },
  {
   "cell_type": "code",
   "execution_count": 25,
   "id": "43eeb84e-840f-4bf9-a6f2-46f6b4ccec61",
   "metadata": {
    "tags": []
   },
   "outputs": [
    {
     "name": "stderr",
     "output_type": "stream",
     "text": [
      "status: ASSIGNED\n",
      ".... no task information\n",
      "status: ASSIGNED\n",
      ".... 2023-08-18 11:27:47.304000+03:00 Begin job.\n",
      "status: ASSIGNED\n",
      ".... 2023-08-18 11:27:47.304000+03:00 Begin job.\n",
      "status: TERMINATEDNORMALLY\n",
      ".... 2023-08-18 11:27:47.304000+03:00 Begin job.\n"
     ]
    },
    {
     "data": {
      "text/html": [
       "<style  type=\"text/css\" >\n",
       "#T_pybfstylerow0_col0,#T_pybfstylerow0_col1,#T_pybfstylerow0_col2{\n",
       "            text-align:  left;\n",
       "            vertical-align:  top;\n",
       "        }</style><table id=\"T_pybfstyle\"  class=\"tex2jax_ignore\"><thead>    <tr>        <th class=\"blank level0\" ></th>        <th class=\"col_heading level0 col0\" >Flow</th>        <th class=\"col_heading level0 col1\" >Traces</th>        <th class=\"col_heading level0 col2\" >TraceCount</th>    </tr></thead><tbody>\n",
       "                <tr>\n",
       "                        <th id=\"T_pybfstylelevel0_row0\" class=\"row_heading level0 row0\" >0</th>\n",
       "                        <td id=\"T_pybfstylerow0_col0\" class=\"data row0 col0\" >Start Location: edge1<br>Src IP: 10.0.100.1<br>Src Port: 49152<br>Dst IP: 10.0.200.1<br>Dst Port: 33434<br>IP Protocol: UDP</td>\n",
       "                        <td id=\"T_pybfstylerow0_col1\" class=\"data row0 col1\" ><span style=\"color:#019612; text-weight:bold;\">ACCEPTED</span><br><strong>1</strong>. node: edge1<br>&nbsp;&nbsp;ORIGINATED(default)<br>&nbsp;&nbsp;FORWARDED(Forwarded out interface: Ethernet1 with resolved next-hop IP: 10.0.0.1, Routes: [ospf (Network: 10.0.200.1/32, Next Hop: interface Ethernet1 ip 10.0.0.1)])<br>&nbsp;&nbsp;TRANSMITTED(Ethernet1)<br><strong>2</strong>. node: core1<br>&nbsp;&nbsp;RECEIVED(Ethernet1)<br>&nbsp;&nbsp;FORWARDED(Forwarded out interface: Ethernet2 with resolved next-hop IP: 10.0.1.2, Routes: [ospf (Network: 10.0.200.1/32, Next Hop: interface Ethernet2 ip 10.0.1.2)])<br>&nbsp;&nbsp;TRANSMITTED(Ethernet2)<br><strong>3</strong>. node: edge2<br>&nbsp;&nbsp;RECEIVED(Ethernet1)<br>&nbsp;&nbsp;ACCEPTED(Loopback0)<br><br><span style=\"color:#019612; text-weight:bold;\">ACCEPTED</span><br><strong>1</strong>. node: edge1<br>&nbsp;&nbsp;ORIGINATED(default)<br>&nbsp;&nbsp;FORWARDED(Forwarded out interface: Ethernet2 with resolved next-hop IP: 10.1.0.1, Routes: [ospf (Network: 10.0.200.1/32, Next Hop: interface Ethernet2 ip 10.1.0.1)])<br>&nbsp;&nbsp;TRANSMITTED(Ethernet2)<br><strong>2</strong>. node: core2<br>&nbsp;&nbsp;RECEIVED(Ethernet1)<br>&nbsp;&nbsp;FORWARDED(Forwarded out interface: Ethernet2 with resolved next-hop IP: 10.1.1.2, Routes: [ospf (Network: 10.0.200.1/32, Next Hop: interface Ethernet2 ip 10.1.1.2)])<br>&nbsp;&nbsp;TRANSMITTED(Ethernet2)<br><strong>3</strong>. node: edge2<br>&nbsp;&nbsp;RECEIVED(Ethernet2)<br>&nbsp;&nbsp;ACCEPTED(Loopback0)</td>\n",
       "                        <td id=\"T_pybfstylerow0_col2\" class=\"data row0 col2\" >2</td>\n",
       "            </tr>\n",
       "    </tbody></table>"
      ],
      "text/plain": [
       "                                                   Flow  \\\n",
       "0  start=edge1 [10.0.100.1:49152->10.0.200.1:33434 UDP]   \n",
       "\n",
       "                                                                                                                                                                                                                                                                                                                                                                                                                                                                                                                                                                                                                                                                                                                                                                                                                                                                                                                                                                                 Traces  \\\n",
       "0  [((ORIGINATED(default), FORWARDED(Forwarded out interface: Ethernet1 with resolved next-hop IP: 10.0.0.1, Routes: [ospf (Network: 10.0.200.1/32, Next Hop: interface Ethernet1 ip 10.0.0.1)]), TRANSMITTED(Ethernet1)), (RECEIVED(Ethernet1), FORWARDED(Forwarded out interface: Ethernet2 with resolved next-hop IP: 10.0.1.2, Routes: [ospf (Network: 10.0.200.1/32, Next Hop: interface Ethernet2 ip 10.0.1.2)]), TRANSMITTED(Ethernet2)), (RECEIVED(Ethernet1), ACCEPTED(Loopback0))), ((ORIGINATED(default), FORWARDED(Forwarded out interface: Ethernet2 with resolved next-hop IP: 10.1.0.1, Routes: [ospf (Network: 10.0.200.1/32, Next Hop: interface Ethernet2 ip 10.1.0.1)]), TRANSMITTED(Ethernet2)), (RECEIVED(Ethernet1), FORWARDED(Forwarded out interface: Ethernet2 with resolved next-hop IP: 10.1.1.2, Routes: [ospf (Network: 10.0.200.1/32, Next Hop: interface Ethernet2 ip 10.1.1.2)]), TRANSMITTED(Ethernet2)), (RECEIVED(Ethernet2), ACCEPTED(Loopback0)))]   \n",
       "\n",
       "  TraceCount  \n",
       "0          2  "
      ]
     },
     "metadata": {},
     "output_type": "display_data"
    }
   ],
   "source": [
    "headers = HeaderConstraints(dstIps='10.0.200.1')\n",
    "\n",
    "result10 = bfq.traceroute(startLocation=\"Edge1[Loopback0]\", headers=headers).answer().frame()\n",
    "\n",
    "show(result10)"
   ]
  },
  {
   "cell_type": "code",
   "execution_count": null,
   "id": "5f7fd507-7056-4ff8-b226-0af95c00f0d6",
   "metadata": {
    "tags": []
   },
   "outputs": [],
   "source": [
    "result10['Flow'][0]"
   ]
  },
  {
   "cell_type": "code",
   "execution_count": null,
   "id": "58e3a0a2-9f25-4071-bb1b-1eae9fd02082",
   "metadata": {
    "tags": []
   },
   "outputs": [],
   "source": [
    "result10['Traces'][0][0]"
   ]
  },
  {
   "cell_type": "code",
   "execution_count": null,
   "id": "6fe83f3b-c391-48ce-a9ba-d09ca417a6be",
   "metadata": {
    "tags": []
   },
   "outputs": [],
   "source": [
    "result10['Traces'][0][1]"
   ]
  },
  {
   "cell_type": "code",
   "execution_count": 26,
   "id": "e3fa4d92-cd93-4bb3-b07e-55b214570a37",
   "metadata": {},
   "outputs": [
    {
     "name": "stderr",
     "output_type": "stream",
     "text": [
      "status: UNASSIGNED\n",
      ".... no task information\n",
      "status: ASSIGNED\n",
      ".... 2023-08-18 11:29:51.164000+03:00 Begin job.\n",
      "status: TERMINATEDNORMALLY\n",
      ".... 2023-08-18 11:29:51.164000+03:00 Begin job.\n",
      "status: ASSIGNED\n",
      ".... no task information\n",
      "status: ASSIGNED\n",
      ".... 2023-08-18 11:29:51.526000+03:00 Begin job.\n",
      "status: TERMINATEDNORMALLY\n",
      ".... 2023-08-18 11:29:51.526000+03:00 Begin job.\n"
     ]
    },
    {
     "ename": "BatfishAssertException",
     "evalue": "Found duplicate router-id(s), when none were expected\nOSPF:     Node      VRF Process_ID  Areas Reference_Bandwidth Router_ID Export_Policy_Sources Area_Border_Router\n0  edge1  default          1  ['0']               1e+07   1.1.1.1                    []              False\n3  edge2  default          1  ['0']               1e+07   1.1.1.1                    []              False\n",
     "output_type": "error",
     "traceback": [
      "\u001b[0;31m---------------------------------------------------------------------------\u001b[0m",
      "\u001b[0;31mBatfishAssertException\u001b[0m                    Traceback (most recent call last)",
      "Cell \u001b[0;32mIn[26], line 1\u001b[0m\n\u001b[0;32m----> 1\u001b[0m \u001b[43mbfas\u001b[49m\u001b[38;5;241;43m.\u001b[39;49m\u001b[43massert_no_duplicate_router_ids\u001b[49m\u001b[43m(\u001b[49m\u001b[43m)\u001b[49m\n",
      "    \u001b[0;31m[... skipping hidden 1 frame]\u001b[0m\n",
      "File \u001b[0;32m~/.local/lib/python3.10/site-packages/pybatfish/client/asserts.py:172\u001b[0m, in \u001b[0;36m_raise_common\u001b[0;34m(err_text, soft)\u001b[0m\n\u001b[1;32m    170\u001b[0m     \u001b[38;5;28;01mreturn\u001b[39;00m \u001b[38;5;28;01mFalse\u001b[39;00m\n\u001b[1;32m    171\u001b[0m \u001b[38;5;28;01melse\u001b[39;00m:\n\u001b[0;32m--> 172\u001b[0m     \u001b[38;5;28;01mraise\u001b[39;00m BatfishAssertException(err_text)\n",
      "\u001b[0;31mBatfishAssertException\u001b[0m: Found duplicate router-id(s), when none were expected\nOSPF:     Node      VRF Process_ID  Areas Reference_Bandwidth Router_ID Export_Policy_Sources Area_Border_Router\n0  edge1  default          1  ['0']               1e+07   1.1.1.1                    []              False\n3  edge2  default          1  ['0']               1e+07   1.1.1.1                    []              False\n"
     ]
    }
   ],
   "source": [
    "bfas.assert_no_duplicate_router_ids()"
   ]
  },
  {
   "cell_type": "markdown",
   "id": "c2405ead-6bd4-41b9-b94b-075d5aa89fab",
   "metadata": {},
   "source": [
    "---\n",
    "---"
   ]
  },
  {
   "cell_type": "code",
   "execution_count": 30,
   "id": "fb01c53d-f037-4007-8887-26cd519b30db",
   "metadata": {},
   "outputs": [],
   "source": [
    "%run startup.py"
   ]
  },
  {
   "cell_type": "code",
   "execution_count": 36,
   "id": "27448e6a-d301-48bc-9623-0183ba5dfb58",
   "metadata": {
    "tags": []
   },
   "outputs": [
    {
     "data": {
      "text/plain": [
       "'base'"
      ]
     },
     "execution_count": 36,
     "metadata": {},
     "output_type": "execute_result"
    }
   ],
   "source": [
    "from pybatfish.client.session import Session\n",
    "from pybatfish.datamodel.flow import HeaderConstraints\n",
    "\n",
    "bf = Session(host=\"localhost\")\n",
    "\n",
    "base_snapshot = \"base\"\n",
    "snapshot_path = \"./bfsample\"\n",
    "\n",
    "bf.set_network('lab')\n",
    "bf.init_snapshot(snapshot_path, name=base_snapshot, overwrite=True)"
   ]
  },
  {
   "cell_type": "code",
   "execution_count": 37,
   "id": "1a624971-04b3-4c33-b598-e3e62e278560",
   "metadata": {
    "tags": []
   },
   "outputs": [
    {
     "data": {
      "text/plain": [
       "'core1_fail'"
      ]
     },
     "execution_count": 37,
     "metadata": {},
     "output_type": "execute_result"
    }
   ],
   "source": [
    "fail_snapshot = 'core1_fail'\n",
    "bf.fork_snapshot(base_snapshot, name=fail_snapshot, deactivate_nodes=[\"core1\"], overwrite=True)"
   ]
  },
  {
   "cell_type": "code",
   "execution_count": 38,
   "id": "014e5ca2-4c57-4e0a-90b0-1e06da33f965",
   "metadata": {
    "tags": []
   },
   "outputs": [],
   "source": [
    "trace_answer = bf.q.traceroute(\n",
    "    startLocation=\"Edge1\",\n",
    "    headers=HeaderConstraints(dstIps='10.0.200.1'),\n",
    "    maxTraces=2\n",
    ").answer(base_snapshot)\n",
    "\n",
    "result=trace_answer.frame()"
   ]
  },
  {
   "cell_type": "code",
   "execution_count": 39,
   "id": "a122ddf4-767d-44df-b065-1f02ee5d4cbe",
   "metadata": {
    "tags": []
   },
   "outputs": [
    {
     "data": {
      "text/html": [
       "<style  type=\"text/css\" >\n",
       "#T_pybfstylerow0_col0,#T_pybfstylerow0_col1,#T_pybfstylerow0_col2,#T_pybfstylerow1_col0,#T_pybfstylerow1_col1,#T_pybfstylerow1_col2,#T_pybfstylerow2_col0,#T_pybfstylerow2_col1,#T_pybfstylerow2_col2,#T_pybfstylerow3_col0,#T_pybfstylerow3_col1,#T_pybfstylerow3_col2{\n",
       "            text-align:  left;\n",
       "            vertical-align:  top;\n",
       "        }</style><table id=\"T_pybfstyle\"  class=\"tex2jax_ignore\"><thead>    <tr>        <th class=\"blank level0\" ></th>        <th class=\"col_heading level0 col0\" >Flow</th>        <th class=\"col_heading level0 col1\" >Traces</th>        <th class=\"col_heading level0 col2\" >TraceCount</th>    </tr></thead><tbody>\n",
       "                <tr>\n",
       "                        <th id=\"T_pybfstylelevel0_row0\" class=\"row_heading level0 row0\" >0</th>\n",
       "                        <td id=\"T_pybfstylerow0_col0\" class=\"data row0 col0\" >Start Location: edge1<br>Src IP: 10.0.0.2<br>Src Port: 49152<br>Dst IP: 10.0.200.1<br>Dst Port: 33434<br>IP Protocol: UDP</td>\n",
       "                        <td id=\"T_pybfstylerow0_col1\" class=\"data row0 col1\" ><span style=\"color:#019612; text-weight:bold;\">ACCEPTED</span><br><strong>1</strong>. node: edge1<br>&nbsp;&nbsp;ORIGINATED(default)<br>&nbsp;&nbsp;FORWARDED(Forwarded out interface: Ethernet1 with resolved next-hop IP: 10.0.0.1, Routes: [ospf (Network: 10.0.200.1/32, Next Hop: interface Ethernet1 ip 10.0.0.1)])<br>&nbsp;&nbsp;TRANSMITTED(Ethernet1)<br><strong>2</strong>. node: core1<br>&nbsp;&nbsp;RECEIVED(Ethernet1)<br>&nbsp;&nbsp;FORWARDED(Forwarded out interface: Ethernet2 with resolved next-hop IP: 10.0.1.2, Routes: [ospf (Network: 10.0.200.1/32, Next Hop: interface Ethernet2 ip 10.0.1.2)])<br>&nbsp;&nbsp;TRANSMITTED(Ethernet2)<br><strong>3</strong>. node: edge2<br>&nbsp;&nbsp;RECEIVED(Ethernet1)<br>&nbsp;&nbsp;ACCEPTED(Loopback0)<br><br><span style=\"color:#019612; text-weight:bold;\">ACCEPTED</span><br><strong>1</strong>. node: edge1<br>&nbsp;&nbsp;ORIGINATED(default)<br>&nbsp;&nbsp;FORWARDED(Forwarded out interface: Ethernet2 with resolved next-hop IP: 10.1.0.1, Routes: [ospf (Network: 10.0.200.1/32, Next Hop: interface Ethernet2 ip 10.1.0.1)])<br>&nbsp;&nbsp;TRANSMITTED(Ethernet2)<br><strong>2</strong>. node: core2<br>&nbsp;&nbsp;RECEIVED(Ethernet1)<br>&nbsp;&nbsp;FORWARDED(Forwarded out interface: Ethernet2 with resolved next-hop IP: 10.1.1.2, Routes: [ospf (Network: 10.0.200.1/32, Next Hop: interface Ethernet2 ip 10.1.1.2)])<br>&nbsp;&nbsp;TRANSMITTED(Ethernet2)<br><strong>3</strong>. node: edge2<br>&nbsp;&nbsp;RECEIVED(Ethernet2)<br>&nbsp;&nbsp;ACCEPTED(Loopback0)</td>\n",
       "                        <td id=\"T_pybfstylerow0_col2\" class=\"data row0 col2\" >2</td>\n",
       "            </tr>\n",
       "            <tr>\n",
       "                        <th id=\"T_pybfstylelevel0_row1\" class=\"row_heading level0 row1\" >1</th>\n",
       "                        <td id=\"T_pybfstylerow1_col0\" class=\"data row1 col0\" >Start Location: edge1<br>Src IP: 10.0.100.1<br>Src Port: 49152<br>Dst IP: 10.0.200.1<br>Dst Port: 33434<br>IP Protocol: UDP</td>\n",
       "                        <td id=\"T_pybfstylerow1_col1\" class=\"data row1 col1\" ><span style=\"color:#019612; text-weight:bold;\">ACCEPTED</span><br><strong>1</strong>. node: edge1<br>&nbsp;&nbsp;ORIGINATED(default)<br>&nbsp;&nbsp;FORWARDED(Forwarded out interface: Ethernet1 with resolved next-hop IP: 10.0.0.1, Routes: [ospf (Network: 10.0.200.1/32, Next Hop: interface Ethernet1 ip 10.0.0.1)])<br>&nbsp;&nbsp;TRANSMITTED(Ethernet1)<br><strong>2</strong>. node: core1<br>&nbsp;&nbsp;RECEIVED(Ethernet1)<br>&nbsp;&nbsp;FORWARDED(Forwarded out interface: Ethernet2 with resolved next-hop IP: 10.0.1.2, Routes: [ospf (Network: 10.0.200.1/32, Next Hop: interface Ethernet2 ip 10.0.1.2)])<br>&nbsp;&nbsp;TRANSMITTED(Ethernet2)<br><strong>3</strong>. node: edge2<br>&nbsp;&nbsp;RECEIVED(Ethernet1)<br>&nbsp;&nbsp;ACCEPTED(Loopback0)<br><br><span style=\"color:#019612; text-weight:bold;\">ACCEPTED</span><br><strong>1</strong>. node: edge1<br>&nbsp;&nbsp;ORIGINATED(default)<br>&nbsp;&nbsp;FORWARDED(Forwarded out interface: Ethernet2 with resolved next-hop IP: 10.1.0.1, Routes: [ospf (Network: 10.0.200.1/32, Next Hop: interface Ethernet2 ip 10.1.0.1)])<br>&nbsp;&nbsp;TRANSMITTED(Ethernet2)<br><strong>2</strong>. node: core2<br>&nbsp;&nbsp;RECEIVED(Ethernet1)<br>&nbsp;&nbsp;FORWARDED(Forwarded out interface: Ethernet2 with resolved next-hop IP: 10.1.1.2, Routes: [ospf (Network: 10.0.200.1/32, Next Hop: interface Ethernet2 ip 10.1.1.2)])<br>&nbsp;&nbsp;TRANSMITTED(Ethernet2)<br><strong>3</strong>. node: edge2<br>&nbsp;&nbsp;RECEIVED(Ethernet2)<br>&nbsp;&nbsp;ACCEPTED(Loopback0)</td>\n",
       "                        <td id=\"T_pybfstylerow1_col2\" class=\"data row1 col2\" >2</td>\n",
       "            </tr>\n",
       "            <tr>\n",
       "                        <th id=\"T_pybfstylelevel0_row2\" class=\"row_heading level0 row2\" >2</th>\n",
       "                        <td id=\"T_pybfstylerow2_col0\" class=\"data row2 col0\" >Start Location: edge1<br>Src IP: 10.1.0.2<br>Src Port: 49152<br>Dst IP: 10.0.200.1<br>Dst Port: 33434<br>IP Protocol: UDP</td>\n",
       "                        <td id=\"T_pybfstylerow2_col1\" class=\"data row2 col1\" ><span style=\"color:#019612; text-weight:bold;\">ACCEPTED</span><br><strong>1</strong>. node: edge1<br>&nbsp;&nbsp;ORIGINATED(default)<br>&nbsp;&nbsp;FORWARDED(Forwarded out interface: Ethernet1 with resolved next-hop IP: 10.0.0.1, Routes: [ospf (Network: 10.0.200.1/32, Next Hop: interface Ethernet1 ip 10.0.0.1)])<br>&nbsp;&nbsp;TRANSMITTED(Ethernet1)<br><strong>2</strong>. node: core1<br>&nbsp;&nbsp;RECEIVED(Ethernet1)<br>&nbsp;&nbsp;FORWARDED(Forwarded out interface: Ethernet2 with resolved next-hop IP: 10.0.1.2, Routes: [ospf (Network: 10.0.200.1/32, Next Hop: interface Ethernet2 ip 10.0.1.2)])<br>&nbsp;&nbsp;TRANSMITTED(Ethernet2)<br><strong>3</strong>. node: edge2<br>&nbsp;&nbsp;RECEIVED(Ethernet1)<br>&nbsp;&nbsp;ACCEPTED(Loopback0)<br><br><span style=\"color:#019612; text-weight:bold;\">ACCEPTED</span><br><strong>1</strong>. node: edge1<br>&nbsp;&nbsp;ORIGINATED(default)<br>&nbsp;&nbsp;FORWARDED(Forwarded out interface: Ethernet2 with resolved next-hop IP: 10.1.0.1, Routes: [ospf (Network: 10.0.200.1/32, Next Hop: interface Ethernet2 ip 10.1.0.1)])<br>&nbsp;&nbsp;TRANSMITTED(Ethernet2)<br><strong>2</strong>. node: core2<br>&nbsp;&nbsp;RECEIVED(Ethernet1)<br>&nbsp;&nbsp;FORWARDED(Forwarded out interface: Ethernet2 with resolved next-hop IP: 10.1.1.2, Routes: [ospf (Network: 10.0.200.1/32, Next Hop: interface Ethernet2 ip 10.1.1.2)])<br>&nbsp;&nbsp;TRANSMITTED(Ethernet2)<br><strong>3</strong>. node: edge2<br>&nbsp;&nbsp;RECEIVED(Ethernet2)<br>&nbsp;&nbsp;ACCEPTED(Loopback0)</td>\n",
       "                        <td id=\"T_pybfstylerow2_col2\" class=\"data row2 col2\" >2</td>\n",
       "            </tr>\n",
       "            <tr>\n",
       "                        <th id=\"T_pybfstylelevel0_row3\" class=\"row_heading level0 row3\" >3</th>\n",
       "                        <td id=\"T_pybfstylerow3_col0\" class=\"data row3 col0\" >Start Location: edge1<br>Src IP: 11.0.0.1<br>Src Port: 49152<br>Dst IP: 10.0.200.1<br>Dst Port: 33434<br>IP Protocol: UDP</td>\n",
       "                        <td id=\"T_pybfstylerow3_col1\" class=\"data row3 col1\" ><span style=\"color:#019612; text-weight:bold;\">ACCEPTED</span><br><strong>1</strong>. node: edge1<br>&nbsp;&nbsp;ORIGINATED(default)<br>&nbsp;&nbsp;FORWARDED(Forwarded out interface: Ethernet1 with resolved next-hop IP: 10.0.0.1, Routes: [ospf (Network: 10.0.200.1/32, Next Hop: interface Ethernet1 ip 10.0.0.1)])<br>&nbsp;&nbsp;TRANSMITTED(Ethernet1)<br><strong>2</strong>. node: core1<br>&nbsp;&nbsp;RECEIVED(Ethernet1)<br>&nbsp;&nbsp;FORWARDED(Forwarded out interface: Ethernet2 with resolved next-hop IP: 10.0.1.2, Routes: [ospf (Network: 10.0.200.1/32, Next Hop: interface Ethernet2 ip 10.0.1.2)])<br>&nbsp;&nbsp;TRANSMITTED(Ethernet2)<br><strong>3</strong>. node: edge2<br>&nbsp;&nbsp;RECEIVED(Ethernet1)<br>&nbsp;&nbsp;ACCEPTED(Loopback0)<br><br><span style=\"color:#019612; text-weight:bold;\">ACCEPTED</span><br><strong>1</strong>. node: edge1<br>&nbsp;&nbsp;ORIGINATED(default)<br>&nbsp;&nbsp;FORWARDED(Forwarded out interface: Ethernet2 with resolved next-hop IP: 10.1.0.1, Routes: [ospf (Network: 10.0.200.1/32, Next Hop: interface Ethernet2 ip 10.1.0.1)])<br>&nbsp;&nbsp;TRANSMITTED(Ethernet2)<br><strong>2</strong>. node: core2<br>&nbsp;&nbsp;RECEIVED(Ethernet1)<br>&nbsp;&nbsp;FORWARDED(Forwarded out interface: Ethernet2 with resolved next-hop IP: 10.1.1.2, Routes: [ospf (Network: 10.0.200.1/32, Next Hop: interface Ethernet2 ip 10.1.1.2)])<br>&nbsp;&nbsp;TRANSMITTED(Ethernet2)<br><strong>3</strong>. node: edge2<br>&nbsp;&nbsp;RECEIVED(Ethernet2)<br>&nbsp;&nbsp;ACCEPTED(Loopback0)</td>\n",
       "                        <td id=\"T_pybfstylerow3_col2\" class=\"data row3 col2\" >2</td>\n",
       "            </tr>\n",
       "    </tbody></table>"
      ],
      "text/plain": [
       "                                                   Flow  \\\n",
       "0    start=edge1 [10.0.0.2:49152->10.0.200.1:33434 UDP]   \n",
       "1  start=edge1 [10.0.100.1:49152->10.0.200.1:33434 UDP]   \n",
       "2    start=edge1 [10.1.0.2:49152->10.0.200.1:33434 UDP]   \n",
       "3    start=edge1 [11.0.0.1:49152->10.0.200.1:33434 UDP]   \n",
       "\n",
       "                                                                                                                                                                                                                                                                                                                                                                                                                                                                                                                                                                                                                                                                                                                                                                                                                                                                                                                                                                                 Traces  \\\n",
       "0  [((ORIGINATED(default), FORWARDED(Forwarded out interface: Ethernet1 with resolved next-hop IP: 10.0.0.1, Routes: [ospf (Network: 10.0.200.1/32, Next Hop: interface Ethernet1 ip 10.0.0.1)]), TRANSMITTED(Ethernet1)), (RECEIVED(Ethernet1), FORWARDED(Forwarded out interface: Ethernet2 with resolved next-hop IP: 10.0.1.2, Routes: [ospf (Network: 10.0.200.1/32, Next Hop: interface Ethernet2 ip 10.0.1.2)]), TRANSMITTED(Ethernet2)), (RECEIVED(Ethernet1), ACCEPTED(Loopback0))), ((ORIGINATED(default), FORWARDED(Forwarded out interface: Ethernet2 with resolved next-hop IP: 10.1.0.1, Routes: [ospf (Network: 10.0.200.1/32, Next Hop: interface Ethernet2 ip 10.1.0.1)]), TRANSMITTED(Ethernet2)), (RECEIVED(Ethernet1), FORWARDED(Forwarded out interface: Ethernet2 with resolved next-hop IP: 10.1.1.2, Routes: [ospf (Network: 10.0.200.1/32, Next Hop: interface Ethernet2 ip 10.1.1.2)]), TRANSMITTED(Ethernet2)), (RECEIVED(Ethernet2), ACCEPTED(Loopback0)))]   \n",
       "1  [((ORIGINATED(default), FORWARDED(Forwarded out interface: Ethernet1 with resolved next-hop IP: 10.0.0.1, Routes: [ospf (Network: 10.0.200.1/32, Next Hop: interface Ethernet1 ip 10.0.0.1)]), TRANSMITTED(Ethernet1)), (RECEIVED(Ethernet1), FORWARDED(Forwarded out interface: Ethernet2 with resolved next-hop IP: 10.0.1.2, Routes: [ospf (Network: 10.0.200.1/32, Next Hop: interface Ethernet2 ip 10.0.1.2)]), TRANSMITTED(Ethernet2)), (RECEIVED(Ethernet1), ACCEPTED(Loopback0))), ((ORIGINATED(default), FORWARDED(Forwarded out interface: Ethernet2 with resolved next-hop IP: 10.1.0.1, Routes: [ospf (Network: 10.0.200.1/32, Next Hop: interface Ethernet2 ip 10.1.0.1)]), TRANSMITTED(Ethernet2)), (RECEIVED(Ethernet1), FORWARDED(Forwarded out interface: Ethernet2 with resolved next-hop IP: 10.1.1.2, Routes: [ospf (Network: 10.0.200.1/32, Next Hop: interface Ethernet2 ip 10.1.1.2)]), TRANSMITTED(Ethernet2)), (RECEIVED(Ethernet2), ACCEPTED(Loopback0)))]   \n",
       "2  [((ORIGINATED(default), FORWARDED(Forwarded out interface: Ethernet1 with resolved next-hop IP: 10.0.0.1, Routes: [ospf (Network: 10.0.200.1/32, Next Hop: interface Ethernet1 ip 10.0.0.1)]), TRANSMITTED(Ethernet1)), (RECEIVED(Ethernet1), FORWARDED(Forwarded out interface: Ethernet2 with resolved next-hop IP: 10.0.1.2, Routes: [ospf (Network: 10.0.200.1/32, Next Hop: interface Ethernet2 ip 10.0.1.2)]), TRANSMITTED(Ethernet2)), (RECEIVED(Ethernet1), ACCEPTED(Loopback0))), ((ORIGINATED(default), FORWARDED(Forwarded out interface: Ethernet2 with resolved next-hop IP: 10.1.0.1, Routes: [ospf (Network: 10.0.200.1/32, Next Hop: interface Ethernet2 ip 10.1.0.1)]), TRANSMITTED(Ethernet2)), (RECEIVED(Ethernet1), FORWARDED(Forwarded out interface: Ethernet2 with resolved next-hop IP: 10.1.1.2, Routes: [ospf (Network: 10.0.200.1/32, Next Hop: interface Ethernet2 ip 10.1.1.2)]), TRANSMITTED(Ethernet2)), (RECEIVED(Ethernet2), ACCEPTED(Loopback0)))]   \n",
       "3  [((ORIGINATED(default), FORWARDED(Forwarded out interface: Ethernet1 with resolved next-hop IP: 10.0.0.1, Routes: [ospf (Network: 10.0.200.1/32, Next Hop: interface Ethernet1 ip 10.0.0.1)]), TRANSMITTED(Ethernet1)), (RECEIVED(Ethernet1), FORWARDED(Forwarded out interface: Ethernet2 with resolved next-hop IP: 10.0.1.2, Routes: [ospf (Network: 10.0.200.1/32, Next Hop: interface Ethernet2 ip 10.0.1.2)]), TRANSMITTED(Ethernet2)), (RECEIVED(Ethernet1), ACCEPTED(Loopback0))), ((ORIGINATED(default), FORWARDED(Forwarded out interface: Ethernet2 with resolved next-hop IP: 10.1.0.1, Routes: [ospf (Network: 10.0.200.1/32, Next Hop: interface Ethernet2 ip 10.1.0.1)]), TRANSMITTED(Ethernet2)), (RECEIVED(Ethernet1), FORWARDED(Forwarded out interface: Ethernet2 with resolved next-hop IP: 10.1.1.2, Routes: [ospf (Network: 10.0.200.1/32, Next Hop: interface Ethernet2 ip 10.1.1.2)]), TRANSMITTED(Ethernet2)), (RECEIVED(Ethernet2), ACCEPTED(Loopback0)))]   \n",
       "\n",
       "  TraceCount  \n",
       "0          2  \n",
       "1          2  \n",
       "2          2  \n",
       "3          2  "
      ]
     },
     "metadata": {},
     "output_type": "display_data"
    }
   ],
   "source": [
    "show(result)"
   ]
  },
  {
   "cell_type": "code",
   "execution_count": null,
   "id": "28860062-5fa7-4d83-a206-b49f33eb4de4",
   "metadata": {
    "tags": []
   },
   "outputs": [],
   "source": [
    "result['Traces'][0][0]"
   ]
  },
  {
   "cell_type": "code",
   "execution_count": null,
   "id": "c8edc366-ca96-45c8-b9d8-420010c0573f",
   "metadata": {
    "tags": []
   },
   "outputs": [],
   "source": [
    "result['Traces'][0][1]"
   ]
  },
  {
   "cell_type": "code",
   "execution_count": 40,
   "id": "db200856-1b41-43f7-b506-24496caffb87",
   "metadata": {
    "tags": []
   },
   "outputs": [],
   "source": [
    "trace_answer = bf.q.traceroute(\n",
    "    startLocation=\"Edge1\",\n",
    "    headers=HeaderConstraints(dstIps='10.0.200.1'),\n",
    "    maxTraces=2\n",
    ").answer(fail_snapshot)\n",
    "\n",
    "result=trace_answer.frame()"
   ]
  },
  {
   "cell_type": "code",
   "execution_count": 41,
   "id": "2083a38e-cd48-40c0-a24d-d94bb769b2a6",
   "metadata": {
    "tags": []
   },
   "outputs": [
    {
     "data": {
      "text/html": [
       "<style  type=\"text/css\" >\n",
       "#T_pybfstylerow0_col0,#T_pybfstylerow0_col1,#T_pybfstylerow0_col2,#T_pybfstylerow1_col0,#T_pybfstylerow1_col1,#T_pybfstylerow1_col2,#T_pybfstylerow2_col0,#T_pybfstylerow2_col1,#T_pybfstylerow2_col2,#T_pybfstylerow3_col0,#T_pybfstylerow3_col1,#T_pybfstylerow3_col2{\n",
       "            text-align:  left;\n",
       "            vertical-align:  top;\n",
       "        }</style><table id=\"T_pybfstyle\"  class=\"tex2jax_ignore\"><thead>    <tr>        <th class=\"blank level0\" ></th>        <th class=\"col_heading level0 col0\" >Flow</th>        <th class=\"col_heading level0 col1\" >Traces</th>        <th class=\"col_heading level0 col2\" >TraceCount</th>    </tr></thead><tbody>\n",
       "                <tr>\n",
       "                        <th id=\"T_pybfstylelevel0_row0\" class=\"row_heading level0 row0\" >0</th>\n",
       "                        <td id=\"T_pybfstylerow0_col0\" class=\"data row0 col0\" >Start Location: edge1<br>Src IP: 10.0.0.2<br>Src Port: 49152<br>Dst IP: 10.0.200.1<br>Dst Port: 33434<br>IP Protocol: UDP</td>\n",
       "                        <td id=\"T_pybfstylerow0_col1\" class=\"data row0 col1\" ><span style=\"color:#019612; text-weight:bold;\">ACCEPTED</span><br><strong>1</strong>. node: edge1<br>&nbsp;&nbsp;ORIGINATED(default)<br>&nbsp;&nbsp;FORWARDED(Forwarded out interface: Ethernet2 with resolved next-hop IP: 10.1.0.1, Routes: [ospf (Network: 10.0.200.1/32, Next Hop: interface Ethernet2 ip 10.1.0.1)])<br>&nbsp;&nbsp;TRANSMITTED(Ethernet2)<br><strong>2</strong>. node: core2<br>&nbsp;&nbsp;RECEIVED(Ethernet1)<br>&nbsp;&nbsp;FORWARDED(Forwarded out interface: Ethernet2 with resolved next-hop IP: 10.1.1.2, Routes: [ospf (Network: 10.0.200.1/32, Next Hop: interface Ethernet2 ip 10.1.1.2)])<br>&nbsp;&nbsp;TRANSMITTED(Ethernet2)<br><strong>3</strong>. node: edge2<br>&nbsp;&nbsp;RECEIVED(Ethernet2)<br>&nbsp;&nbsp;ACCEPTED(Loopback0)</td>\n",
       "                        <td id=\"T_pybfstylerow0_col2\" class=\"data row0 col2\" >1</td>\n",
       "            </tr>\n",
       "            <tr>\n",
       "                        <th id=\"T_pybfstylelevel0_row1\" class=\"row_heading level0 row1\" >1</th>\n",
       "                        <td id=\"T_pybfstylerow1_col0\" class=\"data row1 col0\" >Start Location: edge1<br>Src IP: 10.0.100.1<br>Src Port: 49152<br>Dst IP: 10.0.200.1<br>Dst Port: 33434<br>IP Protocol: UDP</td>\n",
       "                        <td id=\"T_pybfstylerow1_col1\" class=\"data row1 col1\" ><span style=\"color:#019612; text-weight:bold;\">ACCEPTED</span><br><strong>1</strong>. node: edge1<br>&nbsp;&nbsp;ORIGINATED(default)<br>&nbsp;&nbsp;FORWARDED(Forwarded out interface: Ethernet2 with resolved next-hop IP: 10.1.0.1, Routes: [ospf (Network: 10.0.200.1/32, Next Hop: interface Ethernet2 ip 10.1.0.1)])<br>&nbsp;&nbsp;TRANSMITTED(Ethernet2)<br><strong>2</strong>. node: core2<br>&nbsp;&nbsp;RECEIVED(Ethernet1)<br>&nbsp;&nbsp;FORWARDED(Forwarded out interface: Ethernet2 with resolved next-hop IP: 10.1.1.2, Routes: [ospf (Network: 10.0.200.1/32, Next Hop: interface Ethernet2 ip 10.1.1.2)])<br>&nbsp;&nbsp;TRANSMITTED(Ethernet2)<br><strong>3</strong>. node: edge2<br>&nbsp;&nbsp;RECEIVED(Ethernet2)<br>&nbsp;&nbsp;ACCEPTED(Loopback0)</td>\n",
       "                        <td id=\"T_pybfstylerow1_col2\" class=\"data row1 col2\" >1</td>\n",
       "            </tr>\n",
       "            <tr>\n",
       "                        <th id=\"T_pybfstylelevel0_row2\" class=\"row_heading level0 row2\" >2</th>\n",
       "                        <td id=\"T_pybfstylerow2_col0\" class=\"data row2 col0\" >Start Location: edge1<br>Src IP: 10.1.0.2<br>Src Port: 49152<br>Dst IP: 10.0.200.1<br>Dst Port: 33434<br>IP Protocol: UDP</td>\n",
       "                        <td id=\"T_pybfstylerow2_col1\" class=\"data row2 col1\" ><span style=\"color:#019612; text-weight:bold;\">ACCEPTED</span><br><strong>1</strong>. node: edge1<br>&nbsp;&nbsp;ORIGINATED(default)<br>&nbsp;&nbsp;FORWARDED(Forwarded out interface: Ethernet2 with resolved next-hop IP: 10.1.0.1, Routes: [ospf (Network: 10.0.200.1/32, Next Hop: interface Ethernet2 ip 10.1.0.1)])<br>&nbsp;&nbsp;TRANSMITTED(Ethernet2)<br><strong>2</strong>. node: core2<br>&nbsp;&nbsp;RECEIVED(Ethernet1)<br>&nbsp;&nbsp;FORWARDED(Forwarded out interface: Ethernet2 with resolved next-hop IP: 10.1.1.2, Routes: [ospf (Network: 10.0.200.1/32, Next Hop: interface Ethernet2 ip 10.1.1.2)])<br>&nbsp;&nbsp;TRANSMITTED(Ethernet2)<br><strong>3</strong>. node: edge2<br>&nbsp;&nbsp;RECEIVED(Ethernet2)<br>&nbsp;&nbsp;ACCEPTED(Loopback0)</td>\n",
       "                        <td id=\"T_pybfstylerow2_col2\" class=\"data row2 col2\" >1</td>\n",
       "            </tr>\n",
       "            <tr>\n",
       "                        <th id=\"T_pybfstylelevel0_row3\" class=\"row_heading level0 row3\" >3</th>\n",
       "                        <td id=\"T_pybfstylerow3_col0\" class=\"data row3 col0\" >Start Location: edge1<br>Src IP: 11.0.0.1<br>Src Port: 49152<br>Dst IP: 10.0.200.1<br>Dst Port: 33434<br>IP Protocol: UDP</td>\n",
       "                        <td id=\"T_pybfstylerow3_col1\" class=\"data row3 col1\" ><span style=\"color:#019612; text-weight:bold;\">ACCEPTED</span><br><strong>1</strong>. node: edge1<br>&nbsp;&nbsp;ORIGINATED(default)<br>&nbsp;&nbsp;FORWARDED(Forwarded out interface: Ethernet2 with resolved next-hop IP: 10.1.0.1, Routes: [ospf (Network: 10.0.200.1/32, Next Hop: interface Ethernet2 ip 10.1.0.1)])<br>&nbsp;&nbsp;TRANSMITTED(Ethernet2)<br><strong>2</strong>. node: core2<br>&nbsp;&nbsp;RECEIVED(Ethernet1)<br>&nbsp;&nbsp;FORWARDED(Forwarded out interface: Ethernet2 with resolved next-hop IP: 10.1.1.2, Routes: [ospf (Network: 10.0.200.1/32, Next Hop: interface Ethernet2 ip 10.1.1.2)])<br>&nbsp;&nbsp;TRANSMITTED(Ethernet2)<br><strong>3</strong>. node: edge2<br>&nbsp;&nbsp;RECEIVED(Ethernet2)<br>&nbsp;&nbsp;ACCEPTED(Loopback0)</td>\n",
       "                        <td id=\"T_pybfstylerow3_col2\" class=\"data row3 col2\" >1</td>\n",
       "            </tr>\n",
       "    </tbody></table>"
      ],
      "text/plain": [
       "                                                   Flow  \\\n",
       "0    start=edge1 [10.0.0.2:49152->10.0.200.1:33434 UDP]   \n",
       "1  start=edge1 [10.0.100.1:49152->10.0.200.1:33434 UDP]   \n",
       "2    start=edge1 [10.1.0.2:49152->10.0.200.1:33434 UDP]   \n",
       "3    start=edge1 [11.0.0.1:49152->10.0.200.1:33434 UDP]   \n",
       "\n",
       "                                                                                                                                                                                                                                                                                                                                                                                                                                                                                       Traces  \\\n",
       "0  [((ORIGINATED(default), FORWARDED(Forwarded out interface: Ethernet2 with resolved next-hop IP: 10.1.0.1, Routes: [ospf (Network: 10.0.200.1/32, Next Hop: interface Ethernet2 ip 10.1.0.1)]), TRANSMITTED(Ethernet2)), (RECEIVED(Ethernet1), FORWARDED(Forwarded out interface: Ethernet2 with resolved next-hop IP: 10.1.1.2, Routes: [ospf (Network: 10.0.200.1/32, Next Hop: interface Ethernet2 ip 10.1.1.2)]), TRANSMITTED(Ethernet2)), (RECEIVED(Ethernet2), ACCEPTED(Loopback0)))]   \n",
       "1  [((ORIGINATED(default), FORWARDED(Forwarded out interface: Ethernet2 with resolved next-hop IP: 10.1.0.1, Routes: [ospf (Network: 10.0.200.1/32, Next Hop: interface Ethernet2 ip 10.1.0.1)]), TRANSMITTED(Ethernet2)), (RECEIVED(Ethernet1), FORWARDED(Forwarded out interface: Ethernet2 with resolved next-hop IP: 10.1.1.2, Routes: [ospf (Network: 10.0.200.1/32, Next Hop: interface Ethernet2 ip 10.1.1.2)]), TRANSMITTED(Ethernet2)), (RECEIVED(Ethernet2), ACCEPTED(Loopback0)))]   \n",
       "2  [((ORIGINATED(default), FORWARDED(Forwarded out interface: Ethernet2 with resolved next-hop IP: 10.1.0.1, Routes: [ospf (Network: 10.0.200.1/32, Next Hop: interface Ethernet2 ip 10.1.0.1)]), TRANSMITTED(Ethernet2)), (RECEIVED(Ethernet1), FORWARDED(Forwarded out interface: Ethernet2 with resolved next-hop IP: 10.1.1.2, Routes: [ospf (Network: 10.0.200.1/32, Next Hop: interface Ethernet2 ip 10.1.1.2)]), TRANSMITTED(Ethernet2)), (RECEIVED(Ethernet2), ACCEPTED(Loopback0)))]   \n",
       "3  [((ORIGINATED(default), FORWARDED(Forwarded out interface: Ethernet2 with resolved next-hop IP: 10.1.0.1, Routes: [ospf (Network: 10.0.200.1/32, Next Hop: interface Ethernet2 ip 10.1.0.1)]), TRANSMITTED(Ethernet2)), (RECEIVED(Ethernet1), FORWARDED(Forwarded out interface: Ethernet2 with resolved next-hop IP: 10.1.1.2, Routes: [ospf (Network: 10.0.200.1/32, Next Hop: interface Ethernet2 ip 10.1.1.2)]), TRANSMITTED(Ethernet2)), (RECEIVED(Ethernet2), ACCEPTED(Loopback0)))]   \n",
       "\n",
       "  TraceCount  \n",
       "0          1  \n",
       "1          1  \n",
       "2          1  \n",
       "3          1  "
      ]
     },
     "metadata": {},
     "output_type": "display_data"
    }
   ],
   "source": [
    "show(result)"
   ]
  },
  {
   "cell_type": "code",
   "execution_count": null,
   "id": "f9e06f6a-cb5e-4e10-ba06-6ca200a25a79",
   "metadata": {
    "tags": []
   },
   "outputs": [],
   "source": [
    "result['Traces'][0][0]"
   ]
  },
  {
   "cell_type": "code",
   "execution_count": null,
   "id": "9dddb47f-e37c-4b43-853d-f5611e7acdf8",
   "metadata": {
    "tags": []
   },
   "outputs": [],
   "source": [
    "bf.q.routes(nodes='Edge1').answer(base_snapshot).frame()"
   ]
  },
  {
   "cell_type": "code",
   "execution_count": null,
   "id": "94425d6e-aeaf-4bd9-9de1-a0d9614eb644",
   "metadata": {
    "tags": []
   },
   "outputs": [],
   "source": [
    "bf.q.routes(nodes='Edge1').answer(fail_snapshot).frame()"
   ]
  },
  {
   "cell_type": "markdown",
   "id": "3438b4cd-a1eb-4d95-bee9-cd4be9547526",
   "metadata": {},
   "source": [
    "---"
   ]
  },
  {
   "cell_type": "code",
   "execution_count": null,
   "id": "01850825-d9b5-4887-adee-4eaa6bc11c47",
   "metadata": {
    "tags": []
   },
   "outputs": [],
   "source": [
    "from pybatfish.client.asserts import "
   ]
  },
  {
   "cell_type": "markdown",
   "id": "1e83164e-56b8-4c03-b163-bfa63e0e0137",
   "metadata": {},
   "source": [
    "---\n",
    "---"
   ]
  },
  {
   "cell_type": "code",
   "execution_count": null,
   "id": "dd78dc12-28fe-46a8-ab90-4a55babe5600",
   "metadata": {
    "tags": []
   },
   "outputs": [],
   "source": [
    "import pyeapi\n",
    "\n",
    "def patch_pyeapi_ciphers():\n",
    "    \"\"\"\n",
    "    python -c 'import ssl; print(ssl._DEFAULT_CIPHERS)'\n",
    "    @SECLEVEL=2:ECDH+AESGCM:ECDH+CHACHA20:ECDH+AES:DHE+AES:!aNULL:!eNULL:!aDSS:!SHA1:!AESCCM\n",
    "    \"\"\"\n",
    "    try:\n",
    "        import pyeapi.eapilib\n",
    "    except ImportError:\n",
    "        return\n",
    "\n",
    "    connect_orig = pyeapi.eapilib.HttpsConnection.connect\n",
    "\n",
    "    def connect(self):\n",
    "        self._context.set_ciphers('DEFAULT@SECLEVEL=2')\n",
    "        return connect_orig(self)\n",
    "\n",
    "    pyeapi.eapilib.HttpsConnection.connect = connect\n",
    "\n",
    "\n",
    "patch_pyeapi_ciphers()"
   ]
  },
  {
   "cell_type": "code",
   "execution_count": null,
   "id": "c8811498-c10f-4122-aaaf-d6bd51795263",
   "metadata": {
    "tags": []
   },
   "outputs": [],
   "source": [
    "import nornir.core\n",
    "from nornir import InitNornir\n",
    "from nornir_utils.plugins.functions import print_result\n",
    "from nornir_napalm.plugins.tasks import napalm_configure\n",
    "\n",
    "\n",
    "nr = InitNornir(config_file='config.yaml', core={\"raise_on_error\": True})\n",
    "\n",
    "\n",
    "def deploy_gspf(task, file):\n",
    "    \n",
    "    task1_result = task.run(\n",
    "        name=f\"Configuring {task.host.name}\",\n",
    "        task=napalm_configure,\n",
    "        filename=f\"{file}\",\n",
    "        dry_run=True,\n",
    "        replace=False,\n",
    "    )\n",
    "\n",
    "leaf1 = nr.filter(name='edge1')\n",
    "\n",
    "result = leaf1.run(task=deploy_gspf, file='example.txt')\n",
    "\n",
    "print_result(result)"
   ]
  },
  {
   "cell_type": "code",
   "execution_count": null,
   "id": "d835815c-3d9a-47a3-aa88-a430c142835d",
   "metadata": {},
   "outputs": [],
   "source": []
  }
 ],
 "metadata": {
  "kernelspec": {
   "display_name": "Python 3 (ipykernel)",
   "language": "python",
   "name": "python3"
  },
  "language_info": {
   "codemirror_mode": {
    "name": "ipython",
    "version": 3
   },
   "file_extension": ".py",
   "mimetype": "text/x-python",
   "name": "python",
   "nbconvert_exporter": "python",
   "pygments_lexer": "ipython3",
   "version": "3.10.12"
  }
 },
 "nbformat": 4,
 "nbformat_minor": 5
}
