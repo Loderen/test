{
 "cells": [
  {
   "cell_type": "markdown",
   "id": "c7ecad8c-37e1-4fea-a698-75d5d1467f14",
   "metadata": {},
   "source": [
    "---\n",
    "# **Модуль 5. Batfish**\n",
    "---"
   ]
  },
  {
   "cell_type": "markdown",
   "id": "aaa30737-d34d-475c-94ee-59f84284732f",
   "metadata": {},
   "source": [
    "```bash\n",
    "sudo docker pull batfish/allinone\n",
    "sudo docker run --name batfish -v batfish-data:/data -p 3000:8888 -p 9997:9997 -p 9996:9996 batfish/allinone\n",
    "```"
   ]
  },
  {
   "cell_type": "markdown",
   "id": "ec62e00c-adea-4a14-a339-c6616f66ea31",
   "metadata": {},
   "source": [
    "```bash\n",
    "pip install --upgrade pybatfish\n",
    "```"
   ]
  },
  {
   "cell_type": "markdown",
   "id": "45884a6d-c0b3-4030-a143-0a7a0127a3d0",
   "metadata": {},
   "source": [
    "> **_Note:_** ~20 min"
   ]
  },
  {
   "cell_type": "code",
   "execution_count": 1,
   "id": "eb7e37c5-5f1a-456a-b9f2-04a09e78b52a",
   "metadata": {
    "tags": []
   },
   "outputs": [],
   "source": [
    "%run startup.py"
   ]
  },
  {
   "cell_type": "code",
   "execution_count": 5,
   "id": "6d1fbc96-c1e9-4a4c-bf2b-53e69f2157c2",
   "metadata": {
    "tags": []
   },
   "outputs": [],
   "source": [
    "from pybatfish.client.commands import bf_init_snapshot, bf_session\n",
    "from pybatfish.question.question import load_questions\n",
    "from pybatfish.question import bfq\n",
    "import pybatfish.client.asserts as bfas"
   ]
  },
  {
   "cell_type": "code",
   "execution_count": 3,
   "id": "de71bf78-f527-4fa5-958f-4524896a31f9",
   "metadata": {
    "tags": []
   },
   "outputs": [],
   "source": [
    "bf_address = \"127.0.0.1\"\n",
    "snapshot_path = \"./bfsample/\"\n",
    "output_dir = \"./output\""
   ]
  },
  {
   "cell_type": "code",
   "execution_count": 4,
   "id": "49b3c926-2287-42ad-b1a0-d7c2720aeadf",
   "metadata": {
    "tags": []
   },
   "outputs": [
    {
     "name": "stderr",
     "output_type": "stream",
     "text": [
      "status: ASSIGNED\n",
      ".... no task information\n",
      "status: ASSIGNED\n",
      ".... 2023-08-18 00:01:32.243000+03:00 Parse network configs 0 / 4.\n",
      "status: ASSIGNED\n",
      ".... 2023-08-18 00:01:32.243000+03:00 Parse network configs 1 / 4.\n",
      "status: ASSIGNED\n",
      ".... 2023-08-18 00:01:32.243000+03:00 Deserializing objects of type 'org.batfish.vendor.VendorConfiguration' from files 3 / 5.\n",
      "status: ASSIGNED\n",
      ".... 2023-08-18 00:01:32.243000+03:00 Deserializing objects of type 'org.batfish.datamodel.Configuration' from files 4 / 4.\n",
      "status: TERMINATEDNORMALLY\n",
      ".... 2023-08-18 00:01:32.243000+03:00 Deserializing objects of type 'org.batfish.datamodel.Configuration' from files 4 / 4.\n",
      "Default snapshot is now set to ss_744af8de-a13c-4270-96f1-d768d14767f9\n",
      "Successfully loaded 71 questions from remote\n",
      "Successfully loaded 71 questions from remote\n",
      "status: ASSIGNED\n",
      ".... no task information\n",
      "status: ASSIGNED\n",
      ".... 2023-08-18 00:01:34.149000+03:00 Parse environment BGP tables.\n",
      "status: TERMINATEDNORMALLY\n",
      ".... 2023-08-18 00:01:34.149000+03:00 Parse environment BGP tables.\n"
     ]
    },
    {
     "name": "stdout",
     "output_type": "stream",
     "text": [
      "              Structure_Type  Structure_Name                    Source_Lines\n",
      "0  extended ipv4 access-list  DENY_ICMP_HTTP      configs/edge1:[48, 49, 50]\n",
      "1           ipv4 prefix-list     PREF_LIST_1  configs/edge2:[50, 51, 52, 53]\n"
     ]
    }
   ],
   "source": [
    "bf_session.host = bf_address\n",
    "\n",
    "bf_init_snapshot(snapshot_path, overwrite=True)\n",
    "load_questions()\n",
    "\n",
    "r1 = bfq.unusedStructures().answer().frame()\n",
    "print(r1)\n",
    "\n",
    "r1.to_csv(f\"{output_dir}/result_1.csv\")"
   ]
  },
  {
   "cell_type": "code",
   "execution_count": null,
   "id": "6173506b-d0d1-41f4-ac95-4cf749a0fee7",
   "metadata": {
    "tags": []
   },
   "outputs": [],
   "source": [
    "result2 = bfq.nodeProperties().answer().frame()\n",
    "print(result2)\n",
    "\n",
    "result2.to_csv(f\"{output_dir}/result_2.csv\")"
   ]
  },
  {
   "cell_type": "code",
   "execution_count": null,
   "id": "d0371e8c-b053-453c-adb6-c3cbaa718b89",
   "metadata": {},
   "outputs": [],
   "source": [
    "#show(result2)"
   ]
  },
  {
   "cell_type": "code",
   "execution_count": null,
   "id": "af96f395-46a4-41bc-9ada-3809eb89f27e",
   "metadata": {},
   "outputs": [],
   "source": [
    "#bfq.    #https://www.batfish.org/assets/cheat-sheet.pdf"
   ]
  },
  {
   "cell_type": "code",
   "execution_count": null,
   "id": "c016d2cb-fb07-4d6e-9f58-26fb44210d53",
   "metadata": {
    "tags": []
   },
   "outputs": [],
   "source": [
    "bfq.nodeProperties().description"
   ]
  },
  {
   "cell_type": "code",
   "execution_count": null,
   "id": "2174d287-ce15-443f-9631-bdf5a3d1f910",
   "metadata": {},
   "outputs": [],
   "source": [
    "#help(bfq.nodeProperties())"
   ]
  },
  {
   "cell_type": "code",
   "execution_count": null,
   "id": "1f5bfb90-f331-4d4d-ad2f-280919ff28d8",
   "metadata": {
    "tags": []
   },
   "outputs": [],
   "source": [
    "result3 = bfq.ospfInterfaceConfiguration().answer().frame()\n",
    "print(result3)\n",
    "\n",
    "result3.to_csv(f\"{output_dir}/result_3.csv\")"
   ]
  },
  {
   "cell_type": "code",
   "execution_count": null,
   "id": "1ecca820-172f-4455-8b02-80957b16e7c4",
   "metadata": {
    "tags": []
   },
   "outputs": [],
   "source": [
    "result4 = bfq.bgpPeerConfiguration().answer().frame()\n",
    "print(result4)\n",
    "\n",
    "result4.to_csv(f\"{output_dir}/result_4.csv\")"
   ]
  },
  {
   "cell_type": "code",
   "execution_count": null,
   "id": "32e904ce-cff7-4382-a214-ec6fc91aa7b9",
   "metadata": {
    "tags": []
   },
   "outputs": [],
   "source": [
    "result5 = bfq.bgpSessionStatus().answer().frame()\n",
    "print(result5)\n",
    "\n",
    "result5.to_csv(f\"{output_dir}/result_5.csv\")"
   ]
  },
  {
   "cell_type": "code",
   "execution_count": null,
   "id": "5c62a2ac-1b29-44d8-828e-6bfbc083277f",
   "metadata": {
    "tags": []
   },
   "outputs": [],
   "source": [
    "result6 = bfq.interfaceProperties().answer().frame()\n",
    "#print(result6)\n",
    "\n",
    "result6.to_csv(f\"{output_dir}/result_6.csv\")"
   ]
  },
  {
   "cell_type": "code",
   "execution_count": null,
   "id": "2be19c43-c231-446c-a3f8-7e69ae3b9cb0",
   "metadata": {
    "tags": []
   },
   "outputs": [],
   "source": [
    "result7 = bfq.routes().answer().frame()\n",
    "print(result7)\n",
    "\n",
    "result7.to_csv(f\"{output_dir}/result_7.csv\")"
   ]
  },
  {
   "cell_type": "code",
   "execution_count": null,
   "id": "74f3f101-2b16-44fc-bc86-d39de72ee636",
   "metadata": {
    "tags": []
   },
   "outputs": [],
   "source": [
    "bfq.routes(nodes='Edge1').answer().frame()"
   ]
  },
  {
   "cell_type": "code",
   "execution_count": null,
   "id": "c309f8d0-bd72-4b47-be5a-de0af413268d",
   "metadata": {
    "tags": []
   },
   "outputs": [],
   "source": [
    "result8 = bfq.bgpSessionCompatibility().answer().frame()\n",
    "print(result8)\n",
    "\n",
    "result8.to_csv(f\"{output_dir}/result_8.csv\")"
   ]
  },
  {
   "cell_type": "code",
   "execution_count": null,
   "id": "27dfdead-8ea5-4023-bcc0-cfbc2a1930b6",
   "metadata": {
    "tags": []
   },
   "outputs": [],
   "source": [
    "result9 = bfq.lpmRoutes(ip='10.0.200.1').answer().frame()\n",
    "print(result9)\n",
    "\n",
    "result9.to_csv(f\"{output_dir}/result_9.csv\")"
   ]
  },
  {
   "cell_type": "markdown",
   "id": "73fb360f-3e95-444c-a01a-0b87d8d5b649",
   "metadata": {},
   "source": [
    "---"
   ]
  },
  {
   "cell_type": "code",
   "execution_count": null,
   "id": "06cfd78e-c264-44af-89ff-310eb0dc421d",
   "metadata": {},
   "outputs": [],
   "source": [
    "import startup"
   ]
  },
  {
   "cell_type": "code",
   "execution_count": null,
   "id": "25ad6c16-ec25-4a25-8bc8-7c4834bb3bb7",
   "metadata": {
    "tags": []
   },
   "outputs": [],
   "source": [
    "from pybatfish.datamodel.flow import HeaderConstraints"
   ]
  },
  {
   "cell_type": "code",
   "execution_count": null,
   "id": "43eeb84e-840f-4bf9-a6f2-46f6b4ccec61",
   "metadata": {
    "tags": []
   },
   "outputs": [],
   "source": [
    "headers = HeaderConstraints(dstIps='10.0.200.1')\n",
    "\n",
    "result10 = bfq.traceroute(startLocation=\"Edge1[Loopback0]\", headers=headers).answer().frame()\n",
    "\n",
    "show(result10)"
   ]
  },
  {
   "cell_type": "code",
   "execution_count": null,
   "id": "5f7fd507-7056-4ff8-b226-0af95c00f0d6",
   "metadata": {
    "tags": []
   },
   "outputs": [],
   "source": [
    "result10['Flow'][0]"
   ]
  },
  {
   "cell_type": "code",
   "execution_count": null,
   "id": "58e3a0a2-9f25-4071-bb1b-1eae9fd02082",
   "metadata": {
    "tags": []
   },
   "outputs": [],
   "source": [
    "result10['Traces'][0][0]"
   ]
  },
  {
   "cell_type": "code",
   "execution_count": null,
   "id": "6fe83f3b-c391-48ce-a9ba-d09ca417a6be",
   "metadata": {
    "tags": []
   },
   "outputs": [],
   "source": [
    "result10['Traces'][0][1]"
   ]
  },
  {
   "cell_type": "code",
   "execution_count": 6,
   "id": "e3fa4d92-cd93-4bb3-b07e-55b214570a37",
   "metadata": {},
   "outputs": [
    {
     "name": "stderr",
     "output_type": "stream",
     "text": [
      "status: ASSIGNED\n",
      ".... no task information\n",
      "status: TERMINATEDNORMALLY\n",
      ".... 2023-08-18 00:14:00.103000+03:00 Begin job.\n",
      "status: UNASSIGNED\n",
      ".... no task information\n",
      "status: ASSIGNED\n",
      ".... 2023-08-18 00:14:00.369000+03:00 Begin job.\n",
      "status: TERMINATEDNORMALLY\n",
      ".... 2023-08-18 00:14:00.369000+03:00 Begin job.\n"
     ]
    },
    {
     "ename": "BatfishAssertException",
     "evalue": "Found duplicate router-id(s), when none were expected\nOSPF:     Node      VRF Process_ID  Areas Reference_Bandwidth Router_ID Export_Policy_Sources Area_Border_Router\n0  edge1  default          1  ['0']               1e+07   1.1.1.1                    []              False\n3  edge2  default          1  ['0']               1e+07   1.1.1.1                    []              False\n",
     "output_type": "error",
     "traceback": [
      "\u001b[0;31m---------------------------------------------------------------------------\u001b[0m",
      "\u001b[0;31mBatfishAssertException\u001b[0m                    Traceback (most recent call last)",
      "Cell \u001b[0;32mIn[6], line 1\u001b[0m\n\u001b[0;32m----> 1\u001b[0m \u001b[43mbfas\u001b[49m\u001b[38;5;241;43m.\u001b[39;49m\u001b[43massert_no_duplicate_router_ids\u001b[49m\u001b[43m(\u001b[49m\u001b[43m)\u001b[49m\n",
      "    \u001b[0;31m[... skipping hidden 1 frame]\u001b[0m\n",
      "File \u001b[0;32m~/.local/lib/python3.10/site-packages/pybatfish/client/asserts.py:172\u001b[0m, in \u001b[0;36m_raise_common\u001b[0;34m(err_text, soft)\u001b[0m\n\u001b[1;32m    170\u001b[0m     \u001b[38;5;28;01mreturn\u001b[39;00m \u001b[38;5;28;01mFalse\u001b[39;00m\n\u001b[1;32m    171\u001b[0m \u001b[38;5;28;01melse\u001b[39;00m:\n\u001b[0;32m--> 172\u001b[0m     \u001b[38;5;28;01mraise\u001b[39;00m BatfishAssertException(err_text)\n",
      "\u001b[0;31mBatfishAssertException\u001b[0m: Found duplicate router-id(s), when none were expected\nOSPF:     Node      VRF Process_ID  Areas Reference_Bandwidth Router_ID Export_Policy_Sources Area_Border_Router\n0  edge1  default          1  ['0']               1e+07   1.1.1.1                    []              False\n3  edge2  default          1  ['0']               1e+07   1.1.1.1                    []              False\n"
     ]
    }
   ],
   "source": [
    "bfas.assert_no_duplicate_router_ids()"
   ]
  },
  {
   "cell_type": "markdown",
   "id": "c2405ead-6bd4-41b9-b94b-075d5aa89fab",
   "metadata": {},
   "source": [
    "---\n",
    "---"
   ]
  },
  {
   "cell_type": "code",
   "execution_count": null,
   "id": "fb01c53d-f037-4007-8887-26cd519b30db",
   "metadata": {},
   "outputs": [],
   "source": [
    "%run startup.py"
   ]
  },
  {
   "cell_type": "code",
   "execution_count": null,
   "id": "27448e6a-d301-48bc-9623-0183ba5dfb58",
   "metadata": {
    "tags": []
   },
   "outputs": [],
   "source": [
    "from pybatfish.client.session import Session\n",
    "from pybatfish.datamodel.flow import HeaderConstraints\n",
    "\n",
    "bf = Session(host=\"localhost\")\n",
    "\n",
    "base_snapshot = \"base\"\n",
    "snapshot_path = \"./\"\n",
    "\n",
    "bf.set_network('lab')\n",
    "bf.init_snapshot(snapshot_path, name=base_snapshot, overwrite=True)"
   ]
  },
  {
   "cell_type": "code",
   "execution_count": null,
   "id": "1a624971-04b3-4c33-b598-e3e62e278560",
   "metadata": {
    "tags": []
   },
   "outputs": [],
   "source": [
    "fail_snapshot = 'core1_fail'\n",
    "bf.fork_snapshot(base_snapshot, name=fail_snapshot, deactivate_nodes=[\"core1\"], overwrite=True)"
   ]
  },
  {
   "cell_type": "code",
   "execution_count": null,
   "id": "014e5ca2-4c57-4e0a-90b0-1e06da33f965",
   "metadata": {
    "tags": []
   },
   "outputs": [],
   "source": [
    "trace_answer = bf.q.traceroute(\n",
    "    startLocation=\"Edge1\",\n",
    "    headers=HeaderConstraints(dstIps='10.0.200.1'),\n",
    "    maxTraces=2\n",
    ").answer(base_snapshot)\n",
    "\n",
    "result=trace_answer.frame()"
   ]
  },
  {
   "cell_type": "code",
   "execution_count": null,
   "id": "a122ddf4-767d-44df-b065-1f02ee5d4cbe",
   "metadata": {
    "tags": []
   },
   "outputs": [],
   "source": [
    "show(result)"
   ]
  },
  {
   "cell_type": "code",
   "execution_count": null,
   "id": "28860062-5fa7-4d83-a206-b49f33eb4de4",
   "metadata": {
    "tags": []
   },
   "outputs": [],
   "source": [
    "result['Traces'][0][0]"
   ]
  },
  {
   "cell_type": "code",
   "execution_count": null,
   "id": "c8edc366-ca96-45c8-b9d8-420010c0573f",
   "metadata": {
    "tags": []
   },
   "outputs": [],
   "source": [
    "result['Traces'][0][1]"
   ]
  },
  {
   "cell_type": "code",
   "execution_count": null,
   "id": "db200856-1b41-43f7-b506-24496caffb87",
   "metadata": {
    "tags": []
   },
   "outputs": [],
   "source": [
    "trace_answer = bf.q.traceroute(\n",
    "    startLocation=\"Edge1\",\n",
    "    headers=HeaderConstraints(dstIps='10.0.200.1'),\n",
    "    maxTraces=2\n",
    ").answer(fail_snapshot)\n",
    "\n",
    "result=trace_answer.frame()"
   ]
  },
  {
   "cell_type": "code",
   "execution_count": null,
   "id": "2083a38e-cd48-40c0-a24d-d94bb769b2a6",
   "metadata": {
    "tags": []
   },
   "outputs": [],
   "source": [
    "show(result)"
   ]
  },
  {
   "cell_type": "code",
   "execution_count": null,
   "id": "f9e06f6a-cb5e-4e10-ba06-6ca200a25a79",
   "metadata": {
    "tags": []
   },
   "outputs": [],
   "source": [
    "result['Traces'][0][0]"
   ]
  },
  {
   "cell_type": "code",
   "execution_count": null,
   "id": "9dddb47f-e37c-4b43-853d-f5611e7acdf8",
   "metadata": {
    "tags": []
   },
   "outputs": [],
   "source": [
    "bf.q.routes(nodes='Edge1').answer(base_snapshot).frame()"
   ]
  },
  {
   "cell_type": "code",
   "execution_count": null,
   "id": "94425d6e-aeaf-4bd9-9de1-a0d9614eb644",
   "metadata": {
    "tags": []
   },
   "outputs": [],
   "source": [
    "bf.q.routes(nodes='Edge1').answer(fail_snapshot).frame()"
   ]
  },
  {
   "cell_type": "markdown",
   "id": "3438b4cd-a1eb-4d95-bee9-cd4be9547526",
   "metadata": {},
   "source": [
    "---"
   ]
  },
  {
   "cell_type": "code",
   "execution_count": null,
   "id": "01850825-d9b5-4887-adee-4eaa6bc11c47",
   "metadata": {
    "tags": []
   },
   "outputs": [],
   "source": [
    "from pybatfish.client.asserts import "
   ]
  },
  {
   "cell_type": "markdown",
   "id": "1e83164e-56b8-4c03-b163-bfa63e0e0137",
   "metadata": {},
   "source": [
    "---\n",
    "---"
   ]
  },
  {
   "cell_type": "code",
   "execution_count": null,
   "id": "dd78dc12-28fe-46a8-ab90-4a55babe5600",
   "metadata": {
    "tags": []
   },
   "outputs": [],
   "source": [
    "import pyeapi\n",
    "\n",
    "def patch_pyeapi_ciphers():\n",
    "    \"\"\"\n",
    "    python -c 'import ssl; print(ssl._DEFAULT_CIPHERS)'\n",
    "    @SECLEVEL=2:ECDH+AESGCM:ECDH+CHACHA20:ECDH+AES:DHE+AES:!aNULL:!eNULL:!aDSS:!SHA1:!AESCCM\n",
    "    \"\"\"\n",
    "    try:\n",
    "        import pyeapi.eapilib\n",
    "    except ImportError:\n",
    "        return\n",
    "\n",
    "    connect_orig = pyeapi.eapilib.HttpsConnection.connect\n",
    "\n",
    "    def connect(self):\n",
    "        self._context.set_ciphers('DEFAULT@SECLEVEL=2')\n",
    "        return connect_orig(self)\n",
    "\n",
    "    pyeapi.eapilib.HttpsConnection.connect = connect\n",
    "\n",
    "\n",
    "patch_pyeapi_ciphers()"
   ]
  },
  {
   "cell_type": "code",
   "execution_count": null,
   "id": "c8811498-c10f-4122-aaaf-d6bd51795263",
   "metadata": {
    "tags": []
   },
   "outputs": [],
   "source": [
    "import nornir.core\n",
    "from nornir import InitNornir\n",
    "from nornir_utils.plugins.functions import print_result\n",
    "from nornir_napalm.plugins.tasks import napalm_configure\n",
    "\n",
    "\n",
    "nr = InitNornir(config_file='config.yaml', core={\"raise_on_error\": True})\n",
    "\n",
    "\n",
    "def deploy_gspf(task, file):\n",
    "    \n",
    "    task1_result = task.run(\n",
    "        name=f\"Configuring {task.host.name}\",\n",
    "        task=napalm_configure,\n",
    "        filename=f\"{file}\",\n",
    "        dry_run=True,\n",
    "        replace=False,\n",
    "    )\n",
    "\n",
    "leaf1 = nr.filter(name='edge1')\n",
    "\n",
    "result = leaf1.run(task=deploy_gspf, file='example.txt')\n",
    "\n",
    "print_result(result)"
   ]
  },
  {
   "cell_type": "code",
   "execution_count": null,
   "id": "d835815c-3d9a-47a3-aa88-a430c142835d",
   "metadata": {},
   "outputs": [],
   "source": []
  }
 ],
 "metadata": {
  "kernelspec": {
   "display_name": "Python 3 (ipykernel)",
   "language": "python",
   "name": "python3"
  },
  "language_info": {
   "codemirror_mode": {
    "name": "ipython",
    "version": 3
   },
   "file_extension": ".py",
   "mimetype": "text/x-python",
   "name": "python",
   "nbconvert_exporter": "python",
   "pygments_lexer": "ipython3",
   "version": "3.10.12"
  }
 },
 "nbformat": 4,
 "nbformat_minor": 5
}
