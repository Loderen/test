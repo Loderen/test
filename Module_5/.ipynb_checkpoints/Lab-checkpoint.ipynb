{
 "cells": [
  {
   "cell_type": "code",
   "execution_count": null,
   "id": "8cf0a08f-9a4f-4a0c-93cf-7a99dce3c3b6",
   "metadata": {},
   "outputs": [],
   "source": [
    "%run startup.py"
   ]
  },
  {
   "cell_type": "code",
   "execution_count": null,
   "id": "f9322117-3077-4bee-acef-59f37eac7138",
   "metadata": {},
   "outputs": [],
   "source": [
    "from pybatfish.client.commands import bf_init_snapshot, bf_session\n",
    "from pybatfish.question.question import load_questions\n",
    "from pybatfish.question import bfq"
   ]
  },
  {
   "cell_type": "code",
   "execution_count": null,
   "id": "f16fda8d-0d4c-45d2-9515-b3fc0510b9d8",
   "metadata": {},
   "outputs": [],
   "source": [
    "bf_address = \"127.0.0.1\"\n",
    "snapshot_path = \"./configs_broken/\"\n",
    "output_dir = \"./output\""
   ]
  },
  {
   "cell_type": "code",
   "execution_count": null,
   "id": "c6485d3a-b3c5-4cd0-95a1-bee70a54e7ea",
   "metadata": {},
   "outputs": [],
   "source": [
    "bf_session.host = bf_address\n",
    "\n",
    "bf_init_snapshot(snapshot_path, overwrite=True)\n",
    "load_questions()"
   ]
  },
  {
   "cell_type": "markdown",
   "id": "34749402-af8b-49d0-86cf-feba5e469e37",
   "metadata": {},
   "source": []
  }
 ],
 "metadata": {
  "kernelspec": {
   "display_name": "Python 3 (ipykernel)",
   "language": "python",
   "name": "python3"
  },
  "language_info": {
   "codemirror_mode": {
    "name": "ipython",
    "version": 3
   },
   "file_extension": ".py",
   "mimetype": "text/x-python",
   "name": "python",
   "nbconvert_exporter": "python",
   "pygments_lexer": "ipython3",
   "version": "3.10.12"
  }
 },
 "nbformat": 4,
 "nbformat_minor": 5
}
