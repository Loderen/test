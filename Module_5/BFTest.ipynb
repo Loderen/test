{
 "cells": [
  {
   "cell_type": "code",
   "execution_count": 1,
   "id": "cde12581-aeea-4a33-8096-10cf98922a05",
   "metadata": {},
   "outputs": [],
   "source": [
    "%run startup.py"
   ]
  },
  {
   "cell_type": "code",
   "execution_count": 2,
   "id": "48e9f8d5-9c3e-4166-85ea-e2f34d3f2da1",
   "metadata": {},
   "outputs": [],
   "source": [
    "import pandas\n",
    "from pybatfish.client.commands import bf_init_snapshot, bf_session\n",
    "from pybatfish.question.question import load_questions\n",
    "from pybatfish.question import bfq\n",
    "import pybatfish.client.asserts as bfas"
   ]
  },
  {
   "cell_type": "code",
   "execution_count": 3,
   "id": "68f32059-d7cf-4233-8ad6-f178725027ec",
   "metadata": {},
   "outputs": [],
   "source": [
    "bf_address = \"127.0.0.1\"\n",
    "snapshot_path = \"./\"\n",
    "output_dir = \"./output\""
   ]
  },
  {
   "cell_type": "code",
   "execution_count": 4,
   "id": "e92f0102-6296-45a6-a131-db87b5183585",
   "metadata": {},
   "outputs": [
    {
     "name": "stderr",
     "output_type": "stream",
     "text": [
      "status: ASSIGNED\n",
      "status: ASSIGNED\n",
      ".... 2023-08-18 11:37:25.008000+03:00 Serializing 'org.batfish.representation.aws.AwsConfiguration' instances to disk 1 / 1.\n",
      "status: ASSIGNED\n",
      ".... 2023-08-18 11:37:25.008000+03:00 Deserializing objects of type 'org.batfish.datamodel.Configuration' from files 2 / 2.\n",
      "status: TERMINATEDNORMALLY\n",
      ".... 2023-08-18 11:37:25.008000+03:00 Deserializing objects of type 'org.batfish.datamodel.Configuration' from files 2 / 2.\n",
      "Default snapshot is now set to ss_fca387f2-5fd1-4f42-881e-cbae3082ae41\n",
      "Successfully loaded 71 questions from remote\n",
      "Successfully loaded 71 questions from remote\n"
     ]
    }
   ],
   "source": [
    "bf_session.host = bf_address\n",
    "\n",
    "snap = bf_init_snapshot(snapshot_path, overwrite=True)\n",
    "load_questions()"
   ]
  },
  {
   "cell_type": "code",
   "execution_count": 5,
   "id": "1016a732-850b-4716-b598-64a1eb67af51",
   "metadata": {},
   "outputs": [
    {
     "name": "stderr",
     "output_type": "stream",
     "text": [
      "status: BLOCKED\n",
      ".... no task information\n",
      "status: BLOCKED\n",
      ".... no task information\n",
      "status: BLOCKED\n",
      ".... no task information\n",
      "status: TERMINATEDNORMALLY\n",
      ".... 2023-08-18 11:38:34.727000+03:00 Parse environment BGP tables.\n"
     ]
    },
    {
     "data": {
      "text/html": [
       "<div>\n",
       "<style scoped>\n",
       "    .dataframe tbody tr th:only-of-type {\n",
       "        vertical-align: middle;\n",
       "    }\n",
       "\n",
       "    .dataframe tbody tr th {\n",
       "        vertical-align: top;\n",
       "    }\n",
       "\n",
       "    .dataframe thead th {\n",
       "        text-align: right;\n",
       "    }\n",
       "</style>\n",
       "<table border=\"1\" class=\"dataframe tex2jax_ignore\">\n",
       "  <thead>\n",
       "    <tr style=\"text-align: right;\">\n",
       "      <th></th>\n",
       "      <th>Node</th>\n",
       "      <th>IP</th>\n",
       "      <th>Interface</th>\n",
       "      <th>AS_Number</th>\n",
       "      <th>Remote_Node</th>\n",
       "      <th>Remote_IP</th>\n",
       "      <th>Remote_Interface</th>\n",
       "      <th>Remote_AS_Number</th>\n",
       "    </tr>\n",
       "  </thead>\n",
       "  <tbody>\n",
       "    <tr>\n",
       "      <th>0</th>\n",
       "      <td>leaf2</td>\n",
       "      <td>11.0.0.2</td>\n",
       "      <td>None</td>\n",
       "      <td>65000</td>\n",
       "      <td>leaf1</td>\n",
       "      <td>11.0.0.1</td>\n",
       "      <td>None</td>\n",
       "      <td>65000</td>\n",
       "    </tr>\n",
       "    <tr>\n",
       "      <th>1</th>\n",
       "      <td>leaf1</td>\n",
       "      <td>11.0.0.1</td>\n",
       "      <td>None</td>\n",
       "      <td>65000</td>\n",
       "      <td>leaf2</td>\n",
       "      <td>11.0.0.2</td>\n",
       "      <td>None</td>\n",
       "      <td>65000</td>\n",
       "    </tr>\n",
       "  </tbody>\n",
       "</table>\n",
       "</div>"
      ],
      "text/plain": [
       "    Node        IP Interface AS_Number Remote_Node Remote_IP Remote_Interface  \\\n",
       "0  leaf2  11.0.0.2      None     65000       leaf1  11.0.0.1             None   \n",
       "1  leaf1  11.0.0.1      None     65000       leaf2  11.0.0.2             None   \n",
       "\n",
       "  Remote_AS_Number  \n",
       "0            65000  \n",
       "1            65000  "
      ]
     },
     "execution_count": 5,
     "metadata": {},
     "output_type": "execute_result"
    }
   ],
   "source": [
    "r1 = bfq.bgpEdges().answer().frame()\n",
    "r1"
   ]
  },
  {
   "cell_type": "code",
   "execution_count": 6,
   "id": "b274286c-ecb6-4ace-9bb7-46fe06f9287b",
   "metadata": {},
   "outputs": [
    {
     "name": "stderr",
     "output_type": "stream",
     "text": [
      "status: ASSIGNED\n",
      ".... no task information\n",
      "status: TERMINATEDNORMALLY\n",
      ".... 2023-08-18 11:38:50.748000+03:00 Begin job.\n"
     ]
    },
    {
     "data": {
      "text/html": [
       "<div>\n",
       "<style scoped>\n",
       "    .dataframe tbody tr th:only-of-type {\n",
       "        vertical-align: middle;\n",
       "    }\n",
       "\n",
       "    .dataframe tbody tr th {\n",
       "        vertical-align: top;\n",
       "    }\n",
       "\n",
       "    .dataframe thead th {\n",
       "        text-align: right;\n",
       "    }\n",
       "</style>\n",
       "<table border=\"1\" class=\"dataframe tex2jax_ignore\">\n",
       "  <thead>\n",
       "    <tr style=\"text-align: right;\">\n",
       "      <th></th>\n",
       "      <th>Node</th>\n",
       "      <th>VRF</th>\n",
       "      <th>VNI</th>\n",
       "      <th>Route_Distinguisher</th>\n",
       "      <th>Import_Route_Target</th>\n",
       "      <th>Export_Route_Target</th>\n",
       "    </tr>\n",
       "  </thead>\n",
       "  <tbody>\n",
       "  </tbody>\n",
       "</table>\n",
       "</div>"
      ],
      "text/plain": [
       "Empty DataFrame\n",
       "Columns: [Node, VRF, VNI, Route_Distinguisher, Import_Route_Target, Export_Route_Target]\n",
       "Index: []"
      ]
     },
     "execution_count": 6,
     "metadata": {},
     "output_type": "execute_result"
    }
   ],
   "source": [
    "r2 = bfq.evpnL3VniProperties().answer().frame()\n",
    "r2"
   ]
  },
  {
   "cell_type": "code",
   "execution_count": 91,
   "id": "a4b96533-f060-46bd-a155-868160dd2496",
   "metadata": {},
   "outputs": [
    {
     "data": {
      "text/html": [
       "<div>\n",
       "<style scoped>\n",
       "    .dataframe tbody tr th:only-of-type {\n",
       "        vertical-align: middle;\n",
       "    }\n",
       "\n",
       "    .dataframe tbody tr th {\n",
       "        vertical-align: top;\n",
       "    }\n",
       "\n",
       "    .dataframe thead th {\n",
       "        text-align: right;\n",
       "    }\n",
       "</style>\n",
       "<table border=\"1\" class=\"dataframe tex2jax_ignore\">\n",
       "  <thead>\n",
       "    <tr style=\"text-align: right;\">\n",
       "      <th></th>\n",
       "      <th>VNI</th>\n",
       "      <th>Node</th>\n",
       "      <th>Remote_Node</th>\n",
       "      <th>VTEP_Address</th>\n",
       "      <th>Remote_VTEP_Address</th>\n",
       "      <th>VLAN</th>\n",
       "      <th>Remote_VLAN</th>\n",
       "      <th>UDP_Port</th>\n",
       "      <th>Multicast_Group</th>\n",
       "    </tr>\n",
       "  </thead>\n",
       "  <tbody>\n",
       "  </tbody>\n",
       "</table>\n",
       "</div>"
      ],
      "text/plain": [
       "Empty DataFrame\n",
       "Columns: [VNI, Node, Remote_Node, VTEP_Address, Remote_VTEP_Address, VLAN, Remote_VLAN, UDP_Port, Multicast_Group]\n",
       "Index: []"
      ]
     },
     "execution_count": 91,
     "metadata": {},
     "output_type": "execute_result"
    }
   ],
   "source": [
    "r3 = bfq.vxlanEdges().answer().frame()\n",
    "r3"
   ]
  },
  {
   "cell_type": "code",
   "execution_count": 7,
   "id": "05ef526e-ee0b-49fc-b1d5-63ac264a44a9",
   "metadata": {},
   "outputs": [
    {
     "name": "stderr",
     "output_type": "stream",
     "text": [
      "status: ASSIGNED\n",
      ".... no task information\n",
      "status: TERMINATEDNORMALLY\n",
      ".... 2023-08-18 11:39:08.302000+03:00 Begin job.\n"
     ]
    },
    {
     "data": {
      "text/html": [
       "<div>\n",
       "<style scoped>\n",
       "    .dataframe tbody tr th:only-of-type {\n",
       "        vertical-align: middle;\n",
       "    }\n",
       "\n",
       "    .dataframe tbody tr th {\n",
       "        vertical-align: top;\n",
       "    }\n",
       "\n",
       "    .dataframe thead th {\n",
       "        text-align: right;\n",
       "    }\n",
       "</style>\n",
       "<table border=\"1\" class=\"dataframe tex2jax_ignore\">\n",
       "  <thead>\n",
       "    <tr style=\"text-align: right;\">\n",
       "      <th></th>\n",
       "      <th>Node</th>\n",
       "      <th>VRF</th>\n",
       "      <th>VNI</th>\n",
       "      <th>Local_VTEP_IP</th>\n",
       "      <th>Multicast_Group</th>\n",
       "      <th>VLAN</th>\n",
       "      <th>VTEP_Flood_List</th>\n",
       "      <th>VXLAN_Port</th>\n",
       "    </tr>\n",
       "  </thead>\n",
       "  <tbody>\n",
       "    <tr>\n",
       "      <th>0</th>\n",
       "      <td>leaf2</td>\n",
       "      <td>default</td>\n",
       "      <td>100100</td>\n",
       "      <td>12.0.0.2</td>\n",
       "      <td>None</td>\n",
       "      <td>100</td>\n",
       "      <td>[]</td>\n",
       "      <td>4789</td>\n",
       "    </tr>\n",
       "    <tr>\n",
       "      <th>1</th>\n",
       "      <td>leaf2</td>\n",
       "      <td>default</td>\n",
       "      <td>100200</td>\n",
       "      <td>12.0.0.2</td>\n",
       "      <td>None</td>\n",
       "      <td>200</td>\n",
       "      <td>[]</td>\n",
       "      <td>4789</td>\n",
       "    </tr>\n",
       "    <tr>\n",
       "      <th>2</th>\n",
       "      <td>leaf1</td>\n",
       "      <td>default</td>\n",
       "      <td>100100</td>\n",
       "      <td>12.0.0.1</td>\n",
       "      <td>None</td>\n",
       "      <td>100</td>\n",
       "      <td>[]</td>\n",
       "      <td>4789</td>\n",
       "    </tr>\n",
       "  </tbody>\n",
       "</table>\n",
       "</div>"
      ],
      "text/plain": [
       "    Node      VRF     VNI Local_VTEP_IP Multicast_Group VLAN VTEP_Flood_List  \\\n",
       "0  leaf2  default  100100      12.0.0.2            None  100              []   \n",
       "1  leaf2  default  100200      12.0.0.2            None  200              []   \n",
       "2  leaf1  default  100100      12.0.0.1            None  100              []   \n",
       "\n",
       "  VXLAN_Port  \n",
       "0       4789  \n",
       "1       4789  \n",
       "2       4789  "
      ]
     },
     "execution_count": 7,
     "metadata": {},
     "output_type": "execute_result"
    }
   ],
   "source": [
    "r4 = bfq.vxlanVniProperties().answer().frame()\n",
    "r4"
   ]
  },
  {
   "cell_type": "code",
   "execution_count": 8,
   "id": "6e734436-859a-496d-8ced-d76cc81c66e2",
   "metadata": {},
   "outputs": [
    {
     "name": "stderr",
     "output_type": "stream",
     "text": [
      "status: ASSIGNED\n",
      ".... no task information\n",
      "status: TERMINATEDNORMALLY\n",
      ".... 2023-08-18 11:39:25.028000+03:00 Begin job.\n"
     ]
    },
    {
     "data": {
      "text/html": [
       "<div>\n",
       "<style scoped>\n",
       "    .dataframe tbody tr th:only-of-type {\n",
       "        vertical-align: middle;\n",
       "    }\n",
       "\n",
       "    .dataframe tbody tr th {\n",
       "        vertical-align: top;\n",
       "    }\n",
       "\n",
       "    .dataframe thead th {\n",
       "        text-align: right;\n",
       "    }\n",
       "</style>\n",
       "<table border=\"1\" class=\"dataframe tex2jax_ignore\">\n",
       "  <thead>\n",
       "    <tr style=\"text-align: right;\">\n",
       "      <th></th>\n",
       "      <th>Node</th>\n",
       "      <th>VRF</th>\n",
       "      <th>Network</th>\n",
       "      <th>Status</th>\n",
       "      <th>Route_Distinguisher</th>\n",
       "      <th>Next_Hop</th>\n",
       "      <th>Next_Hop_IP</th>\n",
       "      <th>Next_Hop_Interface</th>\n",
       "      <th>Protocol</th>\n",
       "      <th>AS_Path</th>\n",
       "      <th>Metric</th>\n",
       "      <th>Local_Pref</th>\n",
       "      <th>Communities</th>\n",
       "      <th>Origin_Protocol</th>\n",
       "      <th>Origin_Type</th>\n",
       "      <th>Originator_Id</th>\n",
       "      <th>Received_Path_Id</th>\n",
       "      <th>Cluster_List</th>\n",
       "      <th>Tunnel_Encapsulation_Attribute</th>\n",
       "      <th>Weight</th>\n",
       "      <th>Tag</th>\n",
       "    </tr>\n",
       "  </thead>\n",
       "  <tbody>\n",
       "  </tbody>\n",
       "</table>\n",
       "</div>"
      ],
      "text/plain": [
       "Empty DataFrame\n",
       "Columns: [Node, VRF, Network, Status, Route_Distinguisher, Next_Hop, Next_Hop_IP, Next_Hop_Interface, Protocol, AS_Path, Metric, Local_Pref, Communities, Origin_Protocol, Origin_Type, Originator_Id, Received_Path_Id, Cluster_List, Tunnel_Encapsulation_Attribute, Weight, Tag]\n",
       "Index: []"
      ]
     },
     "execution_count": 8,
     "metadata": {},
     "output_type": "execute_result"
    }
   ],
   "source": [
    "r5 = bfq.evpnRib().answer().frame()\n",
    "r5"
   ]
  },
  {
   "cell_type": "code",
   "execution_count": 9,
   "id": "210a05ed-ae27-42ce-b160-26355eab3ec0",
   "metadata": {},
   "outputs": [
    {
     "name": "stderr",
     "output_type": "stream",
     "text": [
      "status: ASSIGNED\n",
      ".... no task information\n",
      "status: ASSIGNED\n",
      ".... 2023-08-18 11:39:27.671000+03:00 Begin job.\n",
      "status: TERMINATEDNORMALLY\n",
      ".... 2023-08-18 11:39:27.671000+03:00 Begin job.\n"
     ]
    },
    {
     "data": {
      "text/html": [
       "<div>\n",
       "<style scoped>\n",
       "    .dataframe tbody tr th:only-of-type {\n",
       "        vertical-align: middle;\n",
       "    }\n",
       "\n",
       "    .dataframe tbody tr th {\n",
       "        vertical-align: top;\n",
       "    }\n",
       "\n",
       "    .dataframe thead th {\n",
       "        text-align: right;\n",
       "    }\n",
       "</style>\n",
       "<table border=\"1\" class=\"dataframe tex2jax_ignore\">\n",
       "  <thead>\n",
       "    <tr style=\"text-align: right;\">\n",
       "      <th></th>\n",
       "      <th>Interface</th>\n",
       "      <th>VRF</th>\n",
       "      <th>IP</th>\n",
       "      <th>Area</th>\n",
       "      <th>Remote_Interface</th>\n",
       "      <th>Remote_VRF</th>\n",
       "      <th>Remote_IP</th>\n",
       "      <th>Remote_Area</th>\n",
       "      <th>Session_Status</th>\n",
       "    </tr>\n",
       "  </thead>\n",
       "  <tbody>\n",
       "    <tr>\n",
       "      <th>0</th>\n",
       "      <td>leaf2[Ethernet8]</td>\n",
       "      <td>default</td>\n",
       "      <td>172.16.0.2</td>\n",
       "      <td>0</td>\n",
       "      <td>leaf1[Ethernet8]</td>\n",
       "      <td>default</td>\n",
       "      <td>172.16.0.1</td>\n",
       "      <td>0</td>\n",
       "      <td>ESTABLISHED</td>\n",
       "    </tr>\n",
       "    <tr>\n",
       "      <th>1</th>\n",
       "      <td>leaf1[Ethernet8]</td>\n",
       "      <td>default</td>\n",
       "      <td>172.16.0.1</td>\n",
       "      <td>0</td>\n",
       "      <td>leaf2[Ethernet8]</td>\n",
       "      <td>default</td>\n",
       "      <td>172.16.0.2</td>\n",
       "      <td>0</td>\n",
       "      <td>ESTABLISHED</td>\n",
       "    </tr>\n",
       "  </tbody>\n",
       "</table>\n",
       "</div>"
      ],
      "text/plain": [
       "          Interface      VRF          IP Area  Remote_Interface Remote_VRF  \\\n",
       "0  leaf2[Ethernet8]  default  172.16.0.2    0  leaf1[Ethernet8]    default   \n",
       "1  leaf1[Ethernet8]  default  172.16.0.1    0  leaf2[Ethernet8]    default   \n",
       "\n",
       "    Remote_IP Remote_Area Session_Status  \n",
       "0  172.16.0.1           0    ESTABLISHED  \n",
       "1  172.16.0.2           0    ESTABLISHED  "
      ]
     },
     "execution_count": 9,
     "metadata": {},
     "output_type": "execute_result"
    }
   ],
   "source": [
    "r6 = bfq.ospfSessionCompatibility().answer().frame()\n",
    "r6"
   ]
  },
  {
   "cell_type": "code",
   "execution_count": 85,
   "id": "8846616c-f0cd-4780-8d56-591eebddf5a1",
   "metadata": {},
   "outputs": [],
   "source": [
    "from pybatfish.datamodel.flow import HeaderConstraints"
   ]
  },
  {
   "cell_type": "code",
   "execution_count": 89,
   "id": "d7991ea3-a166-45fd-bd49-581947ed1a75",
   "metadata": {},
   "outputs": [
    {
     "ename": "BatfishAssertException",
     "evalue": "Found a flow that failed, when expected to succeed\n                                                             Flow                                          Traces TraceCount\n0          start=leaf1 [10.1.1.1->10.2.2.1 ICMP (type=8, code=0)]  [((ORIGINATED(default), NO_ROUTE(Discarded)))]          1\n1  start=leaf1 vrf=lab [10.1.1.1->10.2.2.1 ICMP (type=8, code=0)]      [((ORIGINATED(lab), NO_ROUTE(Discarded)))]          1",
     "output_type": "error",
     "traceback": [
      "\u001b[0;31m---------------------------------------------------------------------------\u001b[0m",
      "\u001b[0;31mBatfishAssertException\u001b[0m                    Traceback (most recent call last)",
      "Cell \u001b[0;32mIn[89], line 1\u001b[0m\n\u001b[0;32m----> 1\u001b[0m \u001b[43mbfas\u001b[49m\u001b[38;5;241;43m.\u001b[39;49m\u001b[43massert_flows_succeed\u001b[49m\u001b[43m(\u001b[49m\n\u001b[1;32m      2\u001b[0m \u001b[43m    \u001b[49m\u001b[43mstartLocation\u001b[49m\u001b[38;5;241;43m=\u001b[39;49m\u001b[38;5;124;43m\"\u001b[39;49m\u001b[38;5;124;43mleaf1\u001b[39;49m\u001b[38;5;124;43m\"\u001b[39;49m\u001b[43m,\u001b[49m\n\u001b[1;32m      3\u001b[0m \u001b[43m    \u001b[49m\u001b[43mheaders\u001b[49m\u001b[38;5;241;43m=\u001b[39;49m\u001b[43mHeaderConstraints\u001b[49m\u001b[43m(\u001b[49m\n\u001b[1;32m      4\u001b[0m \u001b[43m        \u001b[49m\u001b[43msrcIps\u001b[49m\u001b[38;5;241;43m=\u001b[39;49m\u001b[38;5;124;43m'\u001b[39;49m\u001b[38;5;124;43m10.1.1.1\u001b[39;49m\u001b[38;5;124;43m'\u001b[39;49m\u001b[43m,\u001b[49m\n\u001b[1;32m      5\u001b[0m \u001b[43m        \u001b[49m\u001b[43mdstIps\u001b[49m\u001b[38;5;241;43m=\u001b[39;49m\u001b[38;5;124;43m'\u001b[39;49m\u001b[38;5;124;43m10.2.2.1\u001b[39;49m\u001b[38;5;124;43m'\u001b[39;49m\n\u001b[1;32m      6\u001b[0m \u001b[43m    \u001b[49m\u001b[43m)\u001b[49m\n\u001b[1;32m      7\u001b[0m \u001b[43m)\u001b[49m\n",
      "    \u001b[0;31m[... skipping hidden 1 frame]\u001b[0m\n",
      "File \u001b[0;32m~/.local/lib/python3.10/site-packages/pybatfish/client/asserts.py:172\u001b[0m, in \u001b[0;36m_raise_common\u001b[0;34m(err_text, soft)\u001b[0m\n\u001b[1;32m    170\u001b[0m     \u001b[38;5;28;01mreturn\u001b[39;00m \u001b[38;5;28;01mFalse\u001b[39;00m\n\u001b[1;32m    171\u001b[0m \u001b[38;5;28;01melse\u001b[39;00m:\n\u001b[0;32m--> 172\u001b[0m     \u001b[38;5;28;01mraise\u001b[39;00m BatfishAssertException(err_text)\n",
      "\u001b[0;31mBatfishAssertException\u001b[0m: Found a flow that failed, when expected to succeed\n                                                             Flow                                          Traces TraceCount\n0          start=leaf1 [10.1.1.1->10.2.2.1 ICMP (type=8, code=0)]  [((ORIGINATED(default), NO_ROUTE(Discarded)))]          1\n1  start=leaf1 vrf=lab [10.1.1.1->10.2.2.1 ICMP (type=8, code=0)]      [((ORIGINATED(lab), NO_ROUTE(Discarded)))]          1"
     ]
    }
   ],
   "source": [
    "bfas.assert_flows_succeed(\n",
    "    startLocation=\"leaf1\",\n",
    "    headers=HeaderConstraints(\n",
    "        srcIps='10.1.1.1',\n",
    "        dstIps='10.2.2.1'\n",
    "    )\n",
    ")"
   ]
  },
  {
   "cell_type": "code",
   "execution_count": 96,
   "id": "8528a0b9-b3a2-422d-8142-d358efbefe69",
   "metadata": {},
   "outputs": [
    {
     "data": {
      "text/plain": [
       "True"
      ]
     },
     "execution_count": 96,
     "metadata": {},
     "output_type": "execute_result"
    }
   ],
   "source": [
    "bfas.assert_no_duplicate_router_ids()"
   ]
  },
  {
   "cell_type": "code",
   "execution_count": null,
   "id": "fe316634-d3c1-4d0a-94bc-e5398ffa1600",
   "metadata": {},
   "outputs": [],
   "source": []
  }
 ],
 "metadata": {
  "kernelspec": {
   "display_name": "Python 3 (ipykernel)",
   "language": "python",
   "name": "python3"
  },
  "language_info": {
   "codemirror_mode": {
    "name": "ipython",
    "version": 3
   },
   "file_extension": ".py",
   "mimetype": "text/x-python",
   "name": "python",
   "nbconvert_exporter": "python",
   "pygments_lexer": "ipython3",
   "version": "3.10.12"
  }
 },
 "nbformat": 4,
 "nbformat_minor": 5
}
